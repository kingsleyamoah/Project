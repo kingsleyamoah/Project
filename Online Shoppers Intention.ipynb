{
 "cells": [
  {
   "cell_type": "code",
   "execution_count": 262,
   "id": "d5969586",
   "metadata": {},
   "outputs": [],
   "source": [
    "import pandas as pd"
   ]
  },
  {
   "cell_type": "code",
   "execution_count": 263,
   "id": "76d682ce",
   "metadata": {},
   "outputs": [
    {
     "data": {
      "text/html": [
       "<div>\n",
       "<style scoped>\n",
       "    .dataframe tbody tr th:only-of-type {\n",
       "        vertical-align: middle;\n",
       "    }\n",
       "\n",
       "    .dataframe tbody tr th {\n",
       "        vertical-align: top;\n",
       "    }\n",
       "\n",
       "    .dataframe thead th {\n",
       "        text-align: right;\n",
       "    }\n",
       "</style>\n",
       "<table border=\"1\" class=\"dataframe\">\n",
       "  <thead>\n",
       "    <tr style=\"text-align: right;\">\n",
       "      <th></th>\n",
       "      <th>Administrative</th>\n",
       "      <th>Administrative_Duration</th>\n",
       "      <th>Informational</th>\n",
       "      <th>Informational_Duration</th>\n",
       "      <th>ProductRelated</th>\n",
       "      <th>ProductRelated_Duration</th>\n",
       "      <th>BounceRates</th>\n",
       "      <th>ExitRates</th>\n",
       "      <th>PageValues</th>\n",
       "      <th>SpecialDay</th>\n",
       "      <th>Month</th>\n",
       "      <th>OperatingSystems</th>\n",
       "      <th>Browser</th>\n",
       "      <th>Region</th>\n",
       "      <th>TrafficType</th>\n",
       "      <th>VisitorType</th>\n",
       "      <th>Weekend</th>\n",
       "      <th>Revenue</th>\n",
       "    </tr>\n",
       "  </thead>\n",
       "  <tbody>\n",
       "    <tr>\n",
       "      <th>0</th>\n",
       "      <td>0</td>\n",
       "      <td>0.0</td>\n",
       "      <td>0</td>\n",
       "      <td>0.0</td>\n",
       "      <td>1</td>\n",
       "      <td>0.000000</td>\n",
       "      <td>0.20</td>\n",
       "      <td>0.20</td>\n",
       "      <td>0.0</td>\n",
       "      <td>0.0</td>\n",
       "      <td>Feb</td>\n",
       "      <td>1</td>\n",
       "      <td>1</td>\n",
       "      <td>1</td>\n",
       "      <td>1</td>\n",
       "      <td>Returning_Visitor</td>\n",
       "      <td>False</td>\n",
       "      <td>False</td>\n",
       "    </tr>\n",
       "    <tr>\n",
       "      <th>1</th>\n",
       "      <td>0</td>\n",
       "      <td>0.0</td>\n",
       "      <td>0</td>\n",
       "      <td>0.0</td>\n",
       "      <td>2</td>\n",
       "      <td>64.000000</td>\n",
       "      <td>0.00</td>\n",
       "      <td>0.10</td>\n",
       "      <td>0.0</td>\n",
       "      <td>0.0</td>\n",
       "      <td>Feb</td>\n",
       "      <td>2</td>\n",
       "      <td>2</td>\n",
       "      <td>1</td>\n",
       "      <td>2</td>\n",
       "      <td>Returning_Visitor</td>\n",
       "      <td>False</td>\n",
       "      <td>False</td>\n",
       "    </tr>\n",
       "    <tr>\n",
       "      <th>2</th>\n",
       "      <td>0</td>\n",
       "      <td>0.0</td>\n",
       "      <td>0</td>\n",
       "      <td>0.0</td>\n",
       "      <td>1</td>\n",
       "      <td>0.000000</td>\n",
       "      <td>0.20</td>\n",
       "      <td>0.20</td>\n",
       "      <td>0.0</td>\n",
       "      <td>0.0</td>\n",
       "      <td>Feb</td>\n",
       "      <td>4</td>\n",
       "      <td>1</td>\n",
       "      <td>9</td>\n",
       "      <td>3</td>\n",
       "      <td>Returning_Visitor</td>\n",
       "      <td>False</td>\n",
       "      <td>False</td>\n",
       "    </tr>\n",
       "    <tr>\n",
       "      <th>3</th>\n",
       "      <td>0</td>\n",
       "      <td>0.0</td>\n",
       "      <td>0</td>\n",
       "      <td>0.0</td>\n",
       "      <td>2</td>\n",
       "      <td>2.666667</td>\n",
       "      <td>0.05</td>\n",
       "      <td>0.14</td>\n",
       "      <td>0.0</td>\n",
       "      <td>0.0</td>\n",
       "      <td>Feb</td>\n",
       "      <td>3</td>\n",
       "      <td>2</td>\n",
       "      <td>2</td>\n",
       "      <td>4</td>\n",
       "      <td>Returning_Visitor</td>\n",
       "      <td>False</td>\n",
       "      <td>False</td>\n",
       "    </tr>\n",
       "    <tr>\n",
       "      <th>4</th>\n",
       "      <td>0</td>\n",
       "      <td>0.0</td>\n",
       "      <td>0</td>\n",
       "      <td>0.0</td>\n",
       "      <td>10</td>\n",
       "      <td>627.500000</td>\n",
       "      <td>0.02</td>\n",
       "      <td>0.05</td>\n",
       "      <td>0.0</td>\n",
       "      <td>0.0</td>\n",
       "      <td>Feb</td>\n",
       "      <td>3</td>\n",
       "      <td>3</td>\n",
       "      <td>1</td>\n",
       "      <td>4</td>\n",
       "      <td>Returning_Visitor</td>\n",
       "      <td>True</td>\n",
       "      <td>False</td>\n",
       "    </tr>\n",
       "  </tbody>\n",
       "</table>\n",
       "</div>"
      ],
      "text/plain": [
       "   Administrative  Administrative_Duration  Informational  \\\n",
       "0               0                      0.0              0   \n",
       "1               0                      0.0              0   \n",
       "2               0                      0.0              0   \n",
       "3               0                      0.0              0   \n",
       "4               0                      0.0              0   \n",
       "\n",
       "   Informational_Duration  ProductRelated  ProductRelated_Duration  \\\n",
       "0                     0.0               1                 0.000000   \n",
       "1                     0.0               2                64.000000   \n",
       "2                     0.0               1                 0.000000   \n",
       "3                     0.0               2                 2.666667   \n",
       "4                     0.0              10               627.500000   \n",
       "\n",
       "   BounceRates  ExitRates  PageValues  SpecialDay Month  OperatingSystems  \\\n",
       "0         0.20       0.20         0.0         0.0   Feb                 1   \n",
       "1         0.00       0.10         0.0         0.0   Feb                 2   \n",
       "2         0.20       0.20         0.0         0.0   Feb                 4   \n",
       "3         0.05       0.14         0.0         0.0   Feb                 3   \n",
       "4         0.02       0.05         0.0         0.0   Feb                 3   \n",
       "\n",
       "   Browser  Region  TrafficType        VisitorType  Weekend  Revenue  \n",
       "0        1       1            1  Returning_Visitor    False    False  \n",
       "1        2       1            2  Returning_Visitor    False    False  \n",
       "2        1       9            3  Returning_Visitor    False    False  \n",
       "3        2       2            4  Returning_Visitor    False    False  \n",
       "4        3       1            4  Returning_Visitor     True    False  "
      ]
     },
     "execution_count": 263,
     "metadata": {},
     "output_type": "execute_result"
    }
   ],
   "source": [
    "df = pd.read_csv('online_shoppers_intention.csv')\n",
    "\n",
    "df.head()"
   ]
  },
  {
   "cell_type": "code",
   "execution_count": 264,
   "id": "1a601e19",
   "metadata": {},
   "outputs": [
    {
     "data": {
      "text/html": [
       "<div>\n",
       "<style scoped>\n",
       "    .dataframe tbody tr th:only-of-type {\n",
       "        vertical-align: middle;\n",
       "    }\n",
       "\n",
       "    .dataframe tbody tr th {\n",
       "        vertical-align: top;\n",
       "    }\n",
       "\n",
       "    .dataframe thead th {\n",
       "        text-align: right;\n",
       "    }\n",
       "</style>\n",
       "<table border=\"1\" class=\"dataframe\">\n",
       "  <thead>\n",
       "    <tr style=\"text-align: right;\">\n",
       "      <th></th>\n",
       "      <th>Administrative</th>\n",
       "      <th>Administrative_Duration</th>\n",
       "      <th>Informational</th>\n",
       "      <th>Informational_Duration</th>\n",
       "      <th>ProductRelated</th>\n",
       "      <th>ProductRelated_Duration</th>\n",
       "      <th>BounceRates</th>\n",
       "      <th>ExitRates</th>\n",
       "      <th>PageValues</th>\n",
       "      <th>SpecialDay</th>\n",
       "      <th>Month</th>\n",
       "      <th>OperatingSystems</th>\n",
       "      <th>Browser</th>\n",
       "      <th>Region</th>\n",
       "      <th>TrafficType</th>\n",
       "      <th>VisitorType</th>\n",
       "      <th>Weekend</th>\n",
       "      <th>Revenue</th>\n",
       "    </tr>\n",
       "  </thead>\n",
       "  <tbody>\n",
       "    <tr>\n",
       "      <th>count</th>\n",
       "      <td>12330.000000</td>\n",
       "      <td>12330.000000</td>\n",
       "      <td>12330.000000</td>\n",
       "      <td>12330.000000</td>\n",
       "      <td>12330.000000</td>\n",
       "      <td>12330.000000</td>\n",
       "      <td>12330.000000</td>\n",
       "      <td>12330.000000</td>\n",
       "      <td>12330.000000</td>\n",
       "      <td>12330.000000</td>\n",
       "      <td>12330</td>\n",
       "      <td>12330.000000</td>\n",
       "      <td>12330.000000</td>\n",
       "      <td>12330.000000</td>\n",
       "      <td>12330.000000</td>\n",
       "      <td>12330</td>\n",
       "      <td>12330</td>\n",
       "      <td>12330</td>\n",
       "    </tr>\n",
       "    <tr>\n",
       "      <th>unique</th>\n",
       "      <td>NaN</td>\n",
       "      <td>NaN</td>\n",
       "      <td>NaN</td>\n",
       "      <td>NaN</td>\n",
       "      <td>NaN</td>\n",
       "      <td>NaN</td>\n",
       "      <td>NaN</td>\n",
       "      <td>NaN</td>\n",
       "      <td>NaN</td>\n",
       "      <td>NaN</td>\n",
       "      <td>10</td>\n",
       "      <td>NaN</td>\n",
       "      <td>NaN</td>\n",
       "      <td>NaN</td>\n",
       "      <td>NaN</td>\n",
       "      <td>3</td>\n",
       "      <td>2</td>\n",
       "      <td>2</td>\n",
       "    </tr>\n",
       "    <tr>\n",
       "      <th>top</th>\n",
       "      <td>NaN</td>\n",
       "      <td>NaN</td>\n",
       "      <td>NaN</td>\n",
       "      <td>NaN</td>\n",
       "      <td>NaN</td>\n",
       "      <td>NaN</td>\n",
       "      <td>NaN</td>\n",
       "      <td>NaN</td>\n",
       "      <td>NaN</td>\n",
       "      <td>NaN</td>\n",
       "      <td>May</td>\n",
       "      <td>NaN</td>\n",
       "      <td>NaN</td>\n",
       "      <td>NaN</td>\n",
       "      <td>NaN</td>\n",
       "      <td>Returning_Visitor</td>\n",
       "      <td>False</td>\n",
       "      <td>False</td>\n",
       "    </tr>\n",
       "    <tr>\n",
       "      <th>freq</th>\n",
       "      <td>NaN</td>\n",
       "      <td>NaN</td>\n",
       "      <td>NaN</td>\n",
       "      <td>NaN</td>\n",
       "      <td>NaN</td>\n",
       "      <td>NaN</td>\n",
       "      <td>NaN</td>\n",
       "      <td>NaN</td>\n",
       "      <td>NaN</td>\n",
       "      <td>NaN</td>\n",
       "      <td>3364</td>\n",
       "      <td>NaN</td>\n",
       "      <td>NaN</td>\n",
       "      <td>NaN</td>\n",
       "      <td>NaN</td>\n",
       "      <td>10551</td>\n",
       "      <td>9462</td>\n",
       "      <td>10422</td>\n",
       "    </tr>\n",
       "    <tr>\n",
       "      <th>mean</th>\n",
       "      <td>2.315166</td>\n",
       "      <td>80.818611</td>\n",
       "      <td>0.503569</td>\n",
       "      <td>34.472398</td>\n",
       "      <td>31.731468</td>\n",
       "      <td>1194.746220</td>\n",
       "      <td>0.022191</td>\n",
       "      <td>0.043073</td>\n",
       "      <td>5.889258</td>\n",
       "      <td>0.061427</td>\n",
       "      <td>NaN</td>\n",
       "      <td>2.124006</td>\n",
       "      <td>2.357097</td>\n",
       "      <td>3.147364</td>\n",
       "      <td>4.069586</td>\n",
       "      <td>NaN</td>\n",
       "      <td>NaN</td>\n",
       "      <td>NaN</td>\n",
       "    </tr>\n",
       "    <tr>\n",
       "      <th>std</th>\n",
       "      <td>3.321784</td>\n",
       "      <td>176.779107</td>\n",
       "      <td>1.270156</td>\n",
       "      <td>140.749294</td>\n",
       "      <td>44.475503</td>\n",
       "      <td>1913.669288</td>\n",
       "      <td>0.048488</td>\n",
       "      <td>0.048597</td>\n",
       "      <td>18.568437</td>\n",
       "      <td>0.198917</td>\n",
       "      <td>NaN</td>\n",
       "      <td>0.911325</td>\n",
       "      <td>1.717277</td>\n",
       "      <td>2.401591</td>\n",
       "      <td>4.025169</td>\n",
       "      <td>NaN</td>\n",
       "      <td>NaN</td>\n",
       "      <td>NaN</td>\n",
       "    </tr>\n",
       "    <tr>\n",
       "      <th>min</th>\n",
       "      <td>0.000000</td>\n",
       "      <td>0.000000</td>\n",
       "      <td>0.000000</td>\n",
       "      <td>0.000000</td>\n",
       "      <td>0.000000</td>\n",
       "      <td>0.000000</td>\n",
       "      <td>0.000000</td>\n",
       "      <td>0.000000</td>\n",
       "      <td>0.000000</td>\n",
       "      <td>0.000000</td>\n",
       "      <td>NaN</td>\n",
       "      <td>1.000000</td>\n",
       "      <td>1.000000</td>\n",
       "      <td>1.000000</td>\n",
       "      <td>1.000000</td>\n",
       "      <td>NaN</td>\n",
       "      <td>NaN</td>\n",
       "      <td>NaN</td>\n",
       "    </tr>\n",
       "    <tr>\n",
       "      <th>25%</th>\n",
       "      <td>0.000000</td>\n",
       "      <td>0.000000</td>\n",
       "      <td>0.000000</td>\n",
       "      <td>0.000000</td>\n",
       "      <td>7.000000</td>\n",
       "      <td>184.137500</td>\n",
       "      <td>0.000000</td>\n",
       "      <td>0.014286</td>\n",
       "      <td>0.000000</td>\n",
       "      <td>0.000000</td>\n",
       "      <td>NaN</td>\n",
       "      <td>2.000000</td>\n",
       "      <td>2.000000</td>\n",
       "      <td>1.000000</td>\n",
       "      <td>2.000000</td>\n",
       "      <td>NaN</td>\n",
       "      <td>NaN</td>\n",
       "      <td>NaN</td>\n",
       "    </tr>\n",
       "    <tr>\n",
       "      <th>50%</th>\n",
       "      <td>1.000000</td>\n",
       "      <td>7.500000</td>\n",
       "      <td>0.000000</td>\n",
       "      <td>0.000000</td>\n",
       "      <td>18.000000</td>\n",
       "      <td>598.936905</td>\n",
       "      <td>0.003112</td>\n",
       "      <td>0.025156</td>\n",
       "      <td>0.000000</td>\n",
       "      <td>0.000000</td>\n",
       "      <td>NaN</td>\n",
       "      <td>2.000000</td>\n",
       "      <td>2.000000</td>\n",
       "      <td>3.000000</td>\n",
       "      <td>2.000000</td>\n",
       "      <td>NaN</td>\n",
       "      <td>NaN</td>\n",
       "      <td>NaN</td>\n",
       "    </tr>\n",
       "    <tr>\n",
       "      <th>75%</th>\n",
       "      <td>4.000000</td>\n",
       "      <td>93.256250</td>\n",
       "      <td>0.000000</td>\n",
       "      <td>0.000000</td>\n",
       "      <td>38.000000</td>\n",
       "      <td>1464.157214</td>\n",
       "      <td>0.016813</td>\n",
       "      <td>0.050000</td>\n",
       "      <td>0.000000</td>\n",
       "      <td>0.000000</td>\n",
       "      <td>NaN</td>\n",
       "      <td>3.000000</td>\n",
       "      <td>2.000000</td>\n",
       "      <td>4.000000</td>\n",
       "      <td>4.000000</td>\n",
       "      <td>NaN</td>\n",
       "      <td>NaN</td>\n",
       "      <td>NaN</td>\n",
       "    </tr>\n",
       "    <tr>\n",
       "      <th>max</th>\n",
       "      <td>27.000000</td>\n",
       "      <td>3398.750000</td>\n",
       "      <td>24.000000</td>\n",
       "      <td>2549.375000</td>\n",
       "      <td>705.000000</td>\n",
       "      <td>63973.522230</td>\n",
       "      <td>0.200000</td>\n",
       "      <td>0.200000</td>\n",
       "      <td>361.763742</td>\n",
       "      <td>1.000000</td>\n",
       "      <td>NaN</td>\n",
       "      <td>8.000000</td>\n",
       "      <td>13.000000</td>\n",
       "      <td>9.000000</td>\n",
       "      <td>20.000000</td>\n",
       "      <td>NaN</td>\n",
       "      <td>NaN</td>\n",
       "      <td>NaN</td>\n",
       "    </tr>\n",
       "  </tbody>\n",
       "</table>\n",
       "</div>"
      ],
      "text/plain": [
       "        Administrative  Administrative_Duration  Informational  \\\n",
       "count     12330.000000             12330.000000   12330.000000   \n",
       "unique             NaN                      NaN            NaN   \n",
       "top                NaN                      NaN            NaN   \n",
       "freq               NaN                      NaN            NaN   \n",
       "mean          2.315166                80.818611       0.503569   \n",
       "std           3.321784               176.779107       1.270156   \n",
       "min           0.000000                 0.000000       0.000000   \n",
       "25%           0.000000                 0.000000       0.000000   \n",
       "50%           1.000000                 7.500000       0.000000   \n",
       "75%           4.000000                93.256250       0.000000   \n",
       "max          27.000000              3398.750000      24.000000   \n",
       "\n",
       "        Informational_Duration  ProductRelated  ProductRelated_Duration  \\\n",
       "count             12330.000000    12330.000000             12330.000000   \n",
       "unique                     NaN             NaN                      NaN   \n",
       "top                        NaN             NaN                      NaN   \n",
       "freq                       NaN             NaN                      NaN   \n",
       "mean                 34.472398       31.731468              1194.746220   \n",
       "std                 140.749294       44.475503              1913.669288   \n",
       "min                   0.000000        0.000000                 0.000000   \n",
       "25%                   0.000000        7.000000               184.137500   \n",
       "50%                   0.000000       18.000000               598.936905   \n",
       "75%                   0.000000       38.000000              1464.157214   \n",
       "max                2549.375000      705.000000             63973.522230   \n",
       "\n",
       "         BounceRates     ExitRates    PageValues    SpecialDay  Month  \\\n",
       "count   12330.000000  12330.000000  12330.000000  12330.000000  12330   \n",
       "unique           NaN           NaN           NaN           NaN     10   \n",
       "top              NaN           NaN           NaN           NaN    May   \n",
       "freq             NaN           NaN           NaN           NaN   3364   \n",
       "mean        0.022191      0.043073      5.889258      0.061427    NaN   \n",
       "std         0.048488      0.048597     18.568437      0.198917    NaN   \n",
       "min         0.000000      0.000000      0.000000      0.000000    NaN   \n",
       "25%         0.000000      0.014286      0.000000      0.000000    NaN   \n",
       "50%         0.003112      0.025156      0.000000      0.000000    NaN   \n",
       "75%         0.016813      0.050000      0.000000      0.000000    NaN   \n",
       "max         0.200000      0.200000    361.763742      1.000000    NaN   \n",
       "\n",
       "        OperatingSystems       Browser        Region   TrafficType  \\\n",
       "count       12330.000000  12330.000000  12330.000000  12330.000000   \n",
       "unique               NaN           NaN           NaN           NaN   \n",
       "top                  NaN           NaN           NaN           NaN   \n",
       "freq                 NaN           NaN           NaN           NaN   \n",
       "mean            2.124006      2.357097      3.147364      4.069586   \n",
       "std             0.911325      1.717277      2.401591      4.025169   \n",
       "min             1.000000      1.000000      1.000000      1.000000   \n",
       "25%             2.000000      2.000000      1.000000      2.000000   \n",
       "50%             2.000000      2.000000      3.000000      2.000000   \n",
       "75%             3.000000      2.000000      4.000000      4.000000   \n",
       "max             8.000000     13.000000      9.000000     20.000000   \n",
       "\n",
       "              VisitorType Weekend Revenue  \n",
       "count               12330   12330   12330  \n",
       "unique                  3       2       2  \n",
       "top     Returning_Visitor   False   False  \n",
       "freq                10551    9462   10422  \n",
       "mean                  NaN     NaN     NaN  \n",
       "std                   NaN     NaN     NaN  \n",
       "min                   NaN     NaN     NaN  \n",
       "25%                   NaN     NaN     NaN  \n",
       "50%                   NaN     NaN     NaN  \n",
       "75%                   NaN     NaN     NaN  \n",
       "max                   NaN     NaN     NaN  "
      ]
     },
     "execution_count": 264,
     "metadata": {},
     "output_type": "execute_result"
    }
   ],
   "source": [
    "df.describe(include='all')"
   ]
  },
  {
   "cell_type": "code",
   "execution_count": 265,
   "id": "2c4cd952",
   "metadata": {},
   "outputs": [
    {
     "name": "stdout",
     "output_type": "stream",
     "text": [
      "<class 'pandas.core.frame.DataFrame'>\n",
      "RangeIndex: 12330 entries, 0 to 12329\n",
      "Data columns (total 18 columns):\n",
      " #   Column                   Non-Null Count  Dtype  \n",
      "---  ------                   --------------  -----  \n",
      " 0   Administrative           12330 non-null  int64  \n",
      " 1   Administrative_Duration  12330 non-null  float64\n",
      " 2   Informational            12330 non-null  int64  \n",
      " 3   Informational_Duration   12330 non-null  float64\n",
      " 4   ProductRelated           12330 non-null  int64  \n",
      " 5   ProductRelated_Duration  12330 non-null  float64\n",
      " 6   BounceRates              12330 non-null  float64\n",
      " 7   ExitRates                12330 non-null  float64\n",
      " 8   PageValues               12330 non-null  float64\n",
      " 9   SpecialDay               12330 non-null  float64\n",
      " 10  Month                    12330 non-null  object \n",
      " 11  OperatingSystems         12330 non-null  int64  \n",
      " 12  Browser                  12330 non-null  int64  \n",
      " 13  Region                   12330 non-null  int64  \n",
      " 14  TrafficType              12330 non-null  int64  \n",
      " 15  VisitorType              12330 non-null  object \n",
      " 16  Weekend                  12330 non-null  bool   \n",
      " 17  Revenue                  12330 non-null  bool   \n",
      "dtypes: bool(2), float64(7), int64(7), object(2)\n",
      "memory usage: 1.5+ MB\n"
     ]
    }
   ],
   "source": [
    "df.info()"
   ]
  },
  {
   "cell_type": "code",
   "execution_count": 266,
   "id": "6f49f114",
   "metadata": {},
   "outputs": [
    {
     "name": "stdout",
     "output_type": "stream",
     "text": [
      "Total number of null values in dataset: 0\n"
     ]
    }
   ],
   "source": [
    "nullcount = df.isnull().sum()\n",
    "print('Total number of null values in dataset:', nullcount.sum())"
   ]
  },
  {
   "cell_type": "code",
   "execution_count": 267,
   "id": "b9dee7b1",
   "metadata": {},
   "outputs": [
    {
     "name": "stdout",
     "output_type": "stream",
     "text": [
      "Administrative               27\n",
      "Administrative_Duration    3335\n",
      "Informational                17\n",
      "Informational_Duration     1258\n",
      "ProductRelated              311\n",
      "ProductRelated_Duration    9551\n",
      "BounceRates                1872\n",
      "ExitRates                  4777\n",
      "PageValues                 2704\n",
      "SpecialDay                    6\n",
      "Month                        10\n",
      "OperatingSystems              8\n",
      "Browser                      13\n",
      "Region                        9\n",
      "TrafficType                  20\n",
      "VisitorType                   3\n",
      "Weekend                       2\n",
      "Revenue                       2\n",
      "dtype: int64\n"
     ]
    }
   ],
   "source": [
    "# Checking for number of unique values for each feature\n",
    "\n",
    "uniques = df.nunique(axis=0)\n",
    "print(uniques)"
   ]
  },
  {
   "cell_type": "code",
   "execution_count": 268,
   "id": "2bb70b28",
   "metadata": {},
   "outputs": [],
   "source": [
    "import matplotlib.pyplot as plt\n",
    "%matplotlib inline\n",
    "import seaborn as sns"
   ]
  },
  {
   "cell_type": "code",
   "execution_count": 269,
   "id": "cf3e2f77",
   "metadata": {},
   "outputs": [
    {
     "name": "stdout",
     "output_type": "stream",
     "text": [
      "Administrative               27\n",
      "Administrative_Duration    3335\n",
      "Informational                17\n",
      "Informational_Duration     1258\n",
      "ProductRelated              311\n",
      "ProductRelated_Duration    9551\n",
      "BounceRates                1872\n",
      "ExitRates                  4777\n",
      "PageValues                 2704\n",
      "SpecialDay                    6\n",
      "Month                        10\n",
      "OperatingSystems              8\n",
      "Browser                      13\n",
      "Region                        9\n",
      "TrafficType                  20\n",
      "VisitorType                   3\n",
      "Weekend                       2\n",
      "Revenue                       2\n",
      "dtype: int64\n"
     ]
    }
   ],
   "source": [
    "# Checking for number of unique values for each feature\n",
    "\n",
    "uniques = df.nunique(axis=0)\n",
    "print(uniques)"
   ]
  },
  {
   "cell_type": "code",
   "execution_count": 270,
   "id": "950f296e",
   "metadata": {},
   "outputs": [
    {
     "name": "stderr",
     "output_type": "stream",
     "text": [
      "C:\\Users\\User\\anaconda3\\lib\\site-packages\\seaborn\\_decorators.py:36: FutureWarning: Pass the following variable as a keyword arg: x. From version 0.12, the only valid positional argument will be `data`, and passing other arguments without an explicit keyword will result in an error or misinterpretation.\n",
      "  warnings.warn(\n"
     ]
    },
    {
     "data": {
      "image/png": "[encoded data removed]",
      "text/plain": [
       "<Figure size 936x360 with 1 Axes>"
      ]
     },
     "metadata": {
      "needs_background": "light"
     },
     "output_type": "display_data"
    }
   ],
   "source": [
    "plt.rcParams['figure.figsize'] = (13, 5)\n",
    "\n",
    "plt.subplot(1, 2, 1)\n",
    "sns.countplot(df['Revenue'], palette = 'pastel')\n",
    "plt.title('Buy or Not', fontsize = 15)\n",
    "plt.xlabel('Revenue or not', fontsize = 15)\n",
    "plt.ylabel('count', fontsize = 15)\n",
    "plt.show()"
   ]
  },
  {
   "cell_type": "code",
   "execution_count": 271,
   "id": "ac075113",
   "metadata": {},
   "outputs": [
    {
     "name": "stderr",
     "output_type": "stream",
     "text": [
      "C:\\Users\\User\\anaconda3\\lib\\site-packages\\seaborn\\_decorators.py:36: FutureWarning: Pass the following variable as a keyword arg: x. From version 0.12, the only valid positional argument will be `data`, and passing other arguments without an explicit keyword will result in an error or misinterpretation.\n",
      "  warnings.warn(\n"
     ]
    },
    {
     "data": {
      "image/png": "[encoded data removed]",
      "text/plain": [
       "<Figure size 936x360 with 1 Axes>"
      ]
     },
     "metadata": {
      "needs_background": "light"
     },
     "output_type": "display_data"
    }
   ],
   "source": [
    "sns.countplot(df['Revenue'])\n",
    "plt.ylim(0,12000)\n",
    "plt.title('Was the transaction completed?', fontsize= 15)\n",
    "plt.xlabel('Transaction Completed', fontsize=12)\n",
    "plt.ylabel('Count (Entries)', fontsize=12)\n",
    "plt.text(x=-.175, y=11000 ,s='10,422', fontsize=15)\n",
    "plt.text(x=.875, y=2500, s='1908', fontsize=15)\n",
    "plt.show()"
   ]
  },
  {
   "cell_type": "code",
   "execution_count": 272,
   "id": "6e4b7a7a",
   "metadata": {},
   "outputs": [
    {
     "name": "stderr",
     "output_type": "stream",
     "text": [
      "C:\\Users\\User\\anaconda3\\lib\\site-packages\\seaborn\\_decorators.py:36: FutureWarning: Pass the following variable as a keyword arg: x. From version 0.12, the only valid positional argument will be `data`, and passing other arguments without an explicit keyword will result in an error or misinterpretation.\n",
      "  warnings.warn(\n"
     ]
    },
    {
     "data": {
      "image/png": "[encoded data removed]",
      "text/plain": [
       "<Figure size 936x360 with 1 Axes>"
      ]
     },
     "metadata": {
      "needs_background": "light"
     },
     "output_type": "display_data"
    }
   ],
   "source": [
    "monthly = df['Month'].value_counts()\n",
    "\n",
    "sns.countplot(df['Month'], order=monthly.index)\n",
    "plt.title('Entries per Month', fontsize=15)\n",
    "xval = -.42\n",
    "plt.ylim(0,4000)\n",
    "\n",
    "for index, value in monthly.items():\n",
    "    plt.text(x=xval, y=value+50, s=str(value))\n",
    "    xval += 1.02"
   ]
  },
  {
   "cell_type": "code",
   "execution_count": 273,
   "id": "d6677d62",
   "metadata": {},
   "outputs": [
    {
     "data": {
      "image/png": "[encoded data removed]",
      "text/plain": [
       "<Figure size 432x432 with 1 Axes>"
      ]
     },
     "metadata": {},
     "output_type": "display_data"
    }
   ],
   "source": [
    "df['OperatingSystems'] = df['OperatingSystems'].replace([5,6,7,8],5)\n",
    "os_plot = df['OperatingSystems'].value_counts().plot.pie(figsize=(6,6))\n",
    "plt.title('Operating Systems', fontsize=15)\n",
    "plt.show()"
   ]
  },
  {
   "cell_type": "code",
   "execution_count": 274,
   "id": "b514d46c",
   "metadata": {},
   "outputs": [
    {
     "name": "stderr",
     "output_type": "stream",
     "text": [
      "C:\\Users\\User\\anaconda3\\lib\\site-packages\\seaborn\\_decorators.py:36: FutureWarning: Pass the following variable as a keyword arg: x. From version 0.12, the only valid positional argument will be `data`, and passing other arguments without an explicit keyword will result in an error or misinterpretation.\n",
      "  warnings.warn(\n"
     ]
    },
    {
     "data": {
      "image/png": "[encoded data removed]",
      "text/plain": [
       "<Figure size 936x360 with 1 Axes>"
      ]
     },
     "metadata": {
      "needs_background": "light"
     },
     "output_type": "display_data"
    }
   ],
   "source": [
    "sns.countplot(df['Browser'])\n",
    "plt.title('Browsers', fontsize=15)\n",
    "plt.show()"
   ]
  },
  {
   "cell_type": "code",
   "execution_count": 275,
   "id": "0b3eb57f",
   "metadata": {},
   "outputs": [],
   "source": [
    "shopping_clean = df.drop(['Month','Browser','OperatingSystems','Region','TrafficType','Weekend'], axis=1)"
   ]
  },
  {
   "cell_type": "code",
   "execution_count": 276,
   "id": "ae89be2e",
   "metadata": {},
   "outputs": [
    {
     "name": "stdout",
     "output_type": "stream",
     "text": [
      "<class 'pandas.core.frame.DataFrame'>\n",
      "RangeIndex: 12330 entries, 0 to 12329\n",
      "Data columns (total 12 columns):\n",
      " #   Column                   Non-Null Count  Dtype  \n",
      "---  ------                   --------------  -----  \n",
      " 0   Administrative           12330 non-null  int64  \n",
      " 1   Administrative_Duration  12330 non-null  float64\n",
      " 2   Informational            12330 non-null  int64  \n",
      " 3   Informational_Duration   12330 non-null  float64\n",
      " 4   ProductRelated           12330 non-null  int64  \n",
      " 5   ProductRelated_Duration  12330 non-null  float64\n",
      " 6   BounceRates              12330 non-null  float64\n",
      " 7   ExitRates                12330 non-null  float64\n",
      " 8   PageValues               12330 non-null  float64\n",
      " 9   SpecialDay               12330 non-null  float64\n",
      " 10  VisitorType              12330 non-null  object \n",
      " 11  Revenue                  12330 non-null  bool   \n",
      "dtypes: bool(1), float64(7), int64(3), object(1)\n",
      "memory usage: 1.0+ MB\n"
     ]
    }
   ],
   "source": [
    "shopping_clean.info()"
   ]
  },
  {
   "cell_type": "code",
   "execution_count": 277,
   "id": "5e7f4ab5",
   "metadata": {},
   "outputs": [],
   "source": [
    "visitor_encoded = pd.get_dummies(shopping_clean['VisitorType'], prefix='Visitor_Type', drop_first = True)\n",
    "\n",
    "shopping_clean_merged = pd.concat([shopping_clean, visitor_encoded], axis=1).drop(['VisitorType'], axis=1)"
   ]
  },
  {
   "cell_type": "code",
   "execution_count": 278,
   "id": "65c95fc5",
   "metadata": {},
   "outputs": [
    {
     "data": {
      "text/html": [
       "<div>\n",
       "<style scoped>\n",
       "    .dataframe tbody tr th:only-of-type {\n",
       "        vertical-align: middle;\n",
       "    }\n",
       "\n",
       "    .dataframe tbody tr th {\n",
       "        vertical-align: top;\n",
       "    }\n",
       "\n",
       "    .dataframe thead th {\n",
       "        text-align: right;\n",
       "    }\n",
       "</style>\n",
       "<table border=\"1\" class=\"dataframe\">\n",
       "  <thead>\n",
       "    <tr style=\"text-align: right;\">\n",
       "      <th></th>\n",
       "      <th>Administrative</th>\n",
       "      <th>Administrative_Duration</th>\n",
       "      <th>Informational</th>\n",
       "      <th>Informational_Duration</th>\n",
       "      <th>ProductRelated</th>\n",
       "      <th>ProductRelated_Duration</th>\n",
       "      <th>BounceRates</th>\n",
       "      <th>ExitRates</th>\n",
       "      <th>PageValues</th>\n",
       "      <th>SpecialDay</th>\n",
       "      <th>Revenue</th>\n",
       "      <th>Visitor_Type_Other</th>\n",
       "      <th>Visitor_Type_Returning_Visitor</th>\n",
       "    </tr>\n",
       "  </thead>\n",
       "  <tbody>\n",
       "    <tr>\n",
       "      <th>0</th>\n",
       "      <td>0</td>\n",
       "      <td>0.0</td>\n",
       "      <td>0</td>\n",
       "      <td>0.0</td>\n",
       "      <td>1</td>\n",
       "      <td>0.000000</td>\n",
       "      <td>0.20</td>\n",
       "      <td>0.20</td>\n",
       "      <td>0.0</td>\n",
       "      <td>0.0</td>\n",
       "      <td>False</td>\n",
       "      <td>0</td>\n",
       "      <td>1</td>\n",
       "    </tr>\n",
       "    <tr>\n",
       "      <th>1</th>\n",
       "      <td>0</td>\n",
       "      <td>0.0</td>\n",
       "      <td>0</td>\n",
       "      <td>0.0</td>\n",
       "      <td>2</td>\n",
       "      <td>64.000000</td>\n",
       "      <td>0.00</td>\n",
       "      <td>0.10</td>\n",
       "      <td>0.0</td>\n",
       "      <td>0.0</td>\n",
       "      <td>False</td>\n",
       "      <td>0</td>\n",
       "      <td>1</td>\n",
       "    </tr>\n",
       "    <tr>\n",
       "      <th>2</th>\n",
       "      <td>0</td>\n",
       "      <td>0.0</td>\n",
       "      <td>0</td>\n",
       "      <td>0.0</td>\n",
       "      <td>1</td>\n",
       "      <td>0.000000</td>\n",
       "      <td>0.20</td>\n",
       "      <td>0.20</td>\n",
       "      <td>0.0</td>\n",
       "      <td>0.0</td>\n",
       "      <td>False</td>\n",
       "      <td>0</td>\n",
       "      <td>1</td>\n",
       "    </tr>\n",
       "    <tr>\n",
       "      <th>3</th>\n",
       "      <td>0</td>\n",
       "      <td>0.0</td>\n",
       "      <td>0</td>\n",
       "      <td>0.0</td>\n",
       "      <td>2</td>\n",
       "      <td>2.666667</td>\n",
       "      <td>0.05</td>\n",
       "      <td>0.14</td>\n",
       "      <td>0.0</td>\n",
       "      <td>0.0</td>\n",
       "      <td>False</td>\n",
       "      <td>0</td>\n",
       "      <td>1</td>\n",
       "    </tr>\n",
       "    <tr>\n",
       "      <th>4</th>\n",
       "      <td>0</td>\n",
       "      <td>0.0</td>\n",
       "      <td>0</td>\n",
       "      <td>0.0</td>\n",
       "      <td>10</td>\n",
       "      <td>627.500000</td>\n",
       "      <td>0.02</td>\n",
       "      <td>0.05</td>\n",
       "      <td>0.0</td>\n",
       "      <td>0.0</td>\n",
       "      <td>False</td>\n",
       "      <td>0</td>\n",
       "      <td>1</td>\n",
       "    </tr>\n",
       "  </tbody>\n",
       "</table>\n",
       "</div>"
      ],
      "text/plain": [
       "   Administrative  Administrative_Duration  Informational  \\\n",
       "0               0                      0.0              0   \n",
       "1               0                      0.0              0   \n",
       "2               0                      0.0              0   \n",
       "3               0                      0.0              0   \n",
       "4               0                      0.0              0   \n",
       "\n",
       "   Informational_Duration  ProductRelated  ProductRelated_Duration  \\\n",
       "0                     0.0               1                 0.000000   \n",
       "1                     0.0               2                64.000000   \n",
       "2                     0.0               1                 0.000000   \n",
       "3                     0.0               2                 2.666667   \n",
       "4                     0.0              10               627.500000   \n",
       "\n",
       "   BounceRates  ExitRates  PageValues  SpecialDay  Revenue  \\\n",
       "0         0.20       0.20         0.0         0.0    False   \n",
       "1         0.00       0.10         0.0         0.0    False   \n",
       "2         0.20       0.20         0.0         0.0    False   \n",
       "3         0.05       0.14         0.0         0.0    False   \n",
       "4         0.02       0.05         0.0         0.0    False   \n",
       "\n",
       "   Visitor_Type_Other  Visitor_Type_Returning_Visitor  \n",
       "0                   0                               1  \n",
       "1                   0                               1  \n",
       "2                   0                               1  \n",
       "3                   0                               1  \n",
       "4                   0                               1  "
      ]
     },
     "execution_count": 278,
     "metadata": {},
     "output_type": "execute_result"
    }
   ],
   "source": [
    "shopping_clean_merged.head()"
   ]
  },
  {
   "cell_type": "code",
   "execution_count": 279,
   "id": "90e92e85",
   "metadata": {},
   "outputs": [],
   "source": [
    "#shopping_clean_merged.to_csv('shopping_intention_cleaned.csv')\n",
    "import sklearn\n",
    "from matplotlib import pyplot as plt\n",
    "from sklearn.model_selection import train_test_split\n",
    "from sklearn.model_selection import StratifiedShuffleSplit\n",
    "from sklearn.preprocessing import OneHotEncoder, LabelEncoder\n",
    "from sklearn.naive_bayes import GaussianNB \n",
    "from sklearn import metrics \n",
    "from sklearn.ensemble import RandomForestClassifier, ExtraTreesClassifier\n",
    "from sklearn.metrics import roc_auc_score\n",
    "from sklearn.metrics import log_loss\n",
    "from sklearn.model_selection import cross_val_score\n",
    "from sklearn.dummy import DummyClassifier"
   ]
  },
  {
   "cell_type": "code",
   "execution_count": 280,
   "id": "76f360ce",
   "metadata": {},
   "outputs": [],
   "source": [
    "X = shopping_clean_merged.drop('Revenue', axis=1)\n",
    "y = shopping_clean_merged['Revenue']\n",
    "X_train, X_test, y_train, y_test = train_test_split(X, y,random_state=2, test_size=.2)"
   ]
  },
  {
   "cell_type": "code",
   "execution_count": 281,
   "id": "6f1298fb",
   "metadata": {},
   "outputs": [
    {
     "name": "stdout",
     "output_type": "stream",
     "text": [
      "Gaussian Naive Bayes model accuracy(in %): 84.63\n"
     ]
    }
   ],
   "source": [
    "# Fit Gaussian Naive Bayes Classifier to our training data\n",
    "gnb = GaussianNB() \n",
    "gnb.fit(X_train, y_train) \n",
    "\n",
    "# Make prediction using our test data and model\n",
    "y_pred = gnb.predict(X_test) \n",
    "\n",
    "# Comparing our prediction to response values\n",
    "print(\"Gaussian Naive Bayes model accuracy(in %):\", round(metrics.accuracy_score(y_test, y_pred)*100,2))"
   ]
  },
  {
   "cell_type": "code",
   "execution_count": 282,
   "id": "3900c127",
   "metadata": {},
   "outputs": [
    {
     "name": "stdout",
     "output_type": "stream",
     "text": [
      "Training Accuracy:  0.8432684509326845\n",
      "Testing Accuracy:  0.8463098134630981\n"
     ]
    }
   ],
   "source": [
    "# evaluating the model\n",
    "print(\"Training Accuracy: \", gnb.score(X_train, y_train))\n",
    "print(\"Testing Accuracy: \", gnb.score(X_test, y_test))"
   ]
  },
  {
   "cell_type": "code",
   "execution_count": 283,
   "id": "5270f0ec",
   "metadata": {},
   "outputs": [
    {
     "data": {
      "image/png": "[encoded data removed]",
      "text/plain": [
       "<Figure size 432x432 with 2 Axes>"
      ]
     },
     "metadata": {
      "needs_background": "light"
     },
     "output_type": "display_data"
    }
   ],
   "source": [
    "# confusion matrix\n",
    "cm = metrics.confusion_matrix(y_test, y_pred)\n",
    "plt.rcParams['figure.figsize'] = (6, 6)\n",
    "sns.heatmap(cm, annot = True)\n",
    "plt.show()"
   ]
  },
  {
   "cell_type": "code",
   "execution_count": 284,
   "id": "4685ddc7",
   "metadata": {},
   "outputs": [],
   "source": [
    "from sklearn import metrics"
   ]
  },
  {
   "cell_type": "code",
   "execution_count": 285,
   "id": "341010f2",
   "metadata": {},
   "outputs": [
    {
     "name": "stdout",
     "output_type": "stream",
     "text": [
      "              precision    recall  f1-score   support\n",
      "\n",
      "       False       0.92      0.90      0.91      2116\n",
      "        True       0.46      0.51      0.49       350\n",
      "\n",
      "    accuracy                           0.85      2466\n",
      "   macro avg       0.69      0.71      0.70      2466\n",
      "weighted avg       0.85      0.85      0.85      2466\n",
      "\n"
     ]
    }
   ],
   "source": [
    "cr = metrics.classification_report(y_test, y_pred)\n",
    "print(cr)"
   ]
  },
  {
   "cell_type": "code",
   "execution_count": 286,
   "id": "f2365859",
   "metadata": {},
   "outputs": [
    {
     "name": "stdout",
     "output_type": "stream",
     "text": [
      "Random Forest Classifier model accuracy(in %): 90.23\n"
     ]
    }
   ],
   "source": [
    "# Fit Random Forest Classifier to our Training Data\n",
    "rfc = RandomForestClassifier(max_depth=5, random_state=2, n_estimators=750)\n",
    "rfc.fit(X_train, y_train)\n",
    "\n",
    "# make prediction using our test data and model\n",
    "y_pred_rfc = rfc.predict(X_test)\n",
    "y_prob_rfc = rfc.predict_proba(X_test)[:, 1]\n",
    "\n",
    "# Comparing our prediciton to response values\n",
    "print('Random Forest Classifier model accuracy(in %):', round(metrics.accuracy_score(y_test, y_pred_rfc)*100,2))"
   ]
  },
  {
   "cell_type": "code",
   "execution_count": 287,
   "id": "ba0d0f7f",
   "metadata": {},
   "outputs": [
    {
     "name": "stdout",
     "output_type": "stream",
     "text": [
      "Training Accuracy:  0.9033860502838605\n",
      "Testing Accuracy:  0.9022708840227088\n"
     ]
    }
   ],
   "source": [
    "# evaluating the model\n",
    "print(\"Training Accuracy: \", rfc.score(X_train, y_train))\n",
    "print(\"Testing Accuracy: \", rfc.score(X_test, y_test))"
   ]
  },
  {
   "cell_type": "code",
   "execution_count": null,
   "id": "7c81de23",
   "metadata": {},
   "outputs": [],
   "source": []
  },
  {
   "cell_type": "code",
   "execution_count": 288,
   "id": "d4c851ae",
   "metadata": {},
   "outputs": [],
   "source": [
    "from sklearn.linear_model import LogisticRegression\n",
    "from sklearn.neighbors import KNeighborsClassifier"
   ]
  },
  {
   "cell_type": "code",
   "execution_count": 289,
   "id": "3d533782",
   "metadata": {},
   "outputs": [
    {
     "data": {
      "text/plain": [
       "KNeighborsClassifier()"
      ]
     },
     "execution_count": 289,
     "metadata": {},
     "output_type": "execute_result"
    }
   ],
   "source": [
    "logreg_cv = LogisticRegression(solver='lbfgs', max_iter=1000)\n",
    "knn_cv=KNeighborsClassifier()\n",
    "\n",
    "logreg_cv.fit(X_train, y_train)\n",
    "knn_cv.fit(X_train, y_train)\n",
    "\n",
    "\n"
   ]
  },
  {
   "cell_type": "code",
   "execution_count": 290,
   "id": "be1fff95",
   "metadata": {},
   "outputs": [
    {
     "name": "stdout",
     "output_type": "stream",
     "text": [
      "Training Accuracy:  0.8827047850770479\n",
      "Testing Accuracy:  0.8824006488240065\n"
     ]
    }
   ],
   "source": [
    "# evaluating the model\n",
    "print(\"Training Accuracy: \", logreg_cv.score(X_train, y_train))\n",
    "print(\"Testing Accuracy: \", logreg_cv.score(X_test, y_test))"
   ]
  },
  {
   "cell_type": "code",
   "execution_count": 291,
   "id": "29f44f69",
   "metadata": {},
   "outputs": [
    {
     "name": "stdout",
     "output_type": "stream",
     "text": [
      "Training Accuracy:  0.892639902676399\n",
      "Testing Accuracy:  0.8738848337388483\n"
     ]
    }
   ],
   "source": [
    "# evaluating the model\n",
    "print(\"Training Accuracy: \", knn_cv.score(X_train, y_train))\n",
    "print(\"Testing Accuracy: \", knn_cv.score(X_test, y_test))"
   ]
  },
  {
   "cell_type": "code",
   "execution_count": 292,
   "id": "0c1ebd88",
   "metadata": {},
   "outputs": [],
   "source": [
    "y_pred_logreg = logreg_cv.predict(X_test)\n",
    "y_pred_knn = knn_cv.predict(X_test)\n",
    "\n"
   ]
  },
  {
   "cell_type": "code",
   "execution_count": 293,
   "id": "1ab59e68",
   "metadata": {},
   "outputs": [],
   "source": [
    "from sklearn.neural_network import MLPClassifier"
   ]
  },
  {
   "cell_type": "code",
   "execution_count": 294,
   "id": "bee41605",
   "metadata": {},
   "outputs": [],
   "source": [
    "clf = MLPClassifier(random_state=1, max_iter=10000).fit(X_train, y_train)"
   ]
  },
  {
   "cell_type": "code",
   "execution_count": 295,
   "id": "eeca8e43",
   "metadata": {},
   "outputs": [],
   "source": [
    "mlp_predict = clf.predict(X_test)"
   ]
  },
  {
   "cell_type": "code",
   "execution_count": 296,
   "id": "72bdfbf5",
   "metadata": {},
   "outputs": [
    {
     "name": "stdout",
     "output_type": "stream",
     "text": [
      "Training Accuracy:  0.8923357664233577\n",
      "Testing Accuracy:  0.8868613138686131\n"
     ]
    }
   ],
   "source": [
    "# evaluating the model\n",
    "print(\"Training Accuracy: \", clf.score(X_train, y_train))\n",
    "print(\"Testing Accuracy: \", clf.score(X_test, y_test))"
   ]
  },
  {
   "cell_type": "code",
   "execution_count": 297,
   "id": "67bd94bc",
   "metadata": {},
   "outputs": [
    {
     "name": "stdout",
     "output_type": "stream",
     "text": [
      "Naive Bayes\n",
      "-------------\n",
      "              precision    recall  f1-score   support\n",
      "\n",
      "       False       0.92      0.90      0.91      2116\n",
      "        True       0.46      0.51      0.49       350\n",
      "\n",
      "    accuracy                           0.85      2466\n",
      "   macro avg       0.69      0.71      0.70      2466\n",
      "weighted avg       0.85      0.85      0.85      2466\n",
      "\n",
      "Random Forest Classifier\n",
      "------------------------\n",
      "              precision    recall  f1-score   support\n",
      "\n",
      "       False       0.92      0.97      0.94      2116\n",
      "        True       0.75      0.47      0.57       350\n",
      "\n",
      "    accuracy                           0.90      2466\n",
      "   macro avg       0.83      0.72      0.76      2466\n",
      "weighted avg       0.89      0.90      0.89      2466\n",
      "\n",
      "Logistic Regression\n",
      "-------------------\n",
      "              precision    recall  f1-score   support\n",
      "\n",
      "       False       0.90      0.97      0.93      2116\n",
      "        True       0.66      0.36      0.46       350\n",
      "\n",
      "    accuracy                           0.88      2466\n",
      "   macro avg       0.78      0.66      0.70      2466\n",
      "weighted avg       0.87      0.88      0.87      2466\n",
      "\n",
      "K-Nearest Neighbor\n",
      "-------------------\n",
      "              precision    recall  f1-score   support\n",
      "\n",
      "       False       0.90      0.96      0.93      2116\n",
      "        True       0.60      0.33      0.42       350\n",
      "\n",
      "    accuracy                           0.87      2466\n",
      "   macro avg       0.75      0.65      0.68      2466\n",
      "weighted avg       0.85      0.87      0.86      2466\n",
      "\n",
      "Multilayer perceptron (MLP)\n",
      "---------------------------\n",
      "              precision    recall  f1-score   support\n",
      "\n",
      "       False       0.91      0.96      0.94      2116\n",
      "        True       0.66      0.42      0.51       350\n",
      "\n",
      "    accuracy                           0.89      2466\n",
      "   macro avg       0.78      0.69      0.72      2466\n",
      "weighted avg       0.87      0.89      0.88      2466\n",
      "\n"
     ]
    }
   ],
   "source": [
    "print(\"Naive Bayes\")\n",
    "print(\"-------------\")\n",
    "cr = metrics.classification_report(y_test, y_pred)\n",
    "print(cr)\n",
    "print(\"Random Forest Classifier\")\n",
    "print(\"------------------------\")\n",
    "cr = metrics.classification_report(y_test, y_pred_rfc)\n",
    "print(cr)\n",
    "print(\"Logistic Regression\")\n",
    "print(\"-------------------\")\n",
    "cr = metrics.classification_report(y_test, y_pred_logreg)\n",
    "print(cr)\n",
    "print(\"K-Nearest Neighbor\")\n",
    "print(\"-------------------\")\n",
    "cr = metrics.classification_report(y_test, y_pred_knn)\n",
    "print(cr)\n",
    "print(\"Multilayer perceptron (MLP)\")\n",
    "print(\"---------------------------\")\n",
    "cr = metrics.classification_report(y_test, mlp_predict)\n",
    "print(cr)\n"
   ]
  },
  {
   "cell_type": "code",
   "execution_count": 298,
   "id": "80528fd9",
   "metadata": {},
   "outputs": [],
   "source": [
    "from sklearn.feature_selection import SelectKBest\n",
    "from sklearn.feature_selection import f_classif"
   ]
  },
  {
   "cell_type": "code",
   "execution_count": 299,
   "id": "41ecee4f",
   "metadata": {},
   "outputs": [
    {
     "name": "stdout",
     "output_type": "stream",
     "text": [
      "[[ 0.          0.          1.         ...  0.2         0.\n",
      "   1.        ]\n",
      " [ 0.          0.          2.         ...  0.1         0.\n",
      "   1.        ]\n",
      " [ 0.          0.          1.         ...  0.2         0.\n",
      "   1.        ]\n",
      " ...\n",
      " [ 0.          0.          6.         ...  0.08666667  0.\n",
      "   1.        ]\n",
      " [ 4.          0.         15.         ...  0.02105263  0.\n",
      "   1.        ]\n",
      " [ 0.          0.          3.         ...  0.06666667  0.\n",
      "   0.        ]]\n",
      "Original number of features: (12330, 12)\n",
      "Reduced number of features: (12330, 8)\n"
     ]
    }
   ],
   "source": [
    "# ANOVA F-value features selection technique\n",
    "fvalue_Best = SelectKBest(f_classif, k=8)\n",
    "X_kbest = fvalue_Best.fit_transform(X, y)\n",
    "print(X_kbest)\n",
    "\n",
    "print('Original number of features:', X.shape)\n",
    "print('Reduced number of features:', X_kbest.shape)"
   ]
  },
  {
   "cell_type": "code",
   "execution_count": 300,
   "id": "4180841a",
   "metadata": {},
   "outputs": [],
   "source": [
    "# Testing models with 70% training set and 30% testing set\n",
    "X_train, X_test, y_train, y_test = train_test_split(X, y,random_state=2, test_size=.3)"
   ]
  },
  {
   "cell_type": "code",
   "execution_count": 301,
   "id": "ba1f08f2",
   "metadata": {},
   "outputs": [
    {
     "name": "stdout",
     "output_type": "stream",
     "text": [
      "Gaussian Naive Bayes model accuracy(in %): 84.75\n",
      "Random Forest Classifier model accuracy(in %): 90.46\n"
     ]
    }
   ],
   "source": [
    "# Fit Gaussian Naive Bayes Classifier to our training data\n",
    "gnb = GaussianNB() \n",
    "gnb.fit(X_train, y_train) \n",
    "\n",
    "# Make prediction using our test data and model\n",
    "y_pred = gnb.predict(X_test) \n",
    "\n",
    "# Comparing our prediction to response values\n",
    "print(\"Gaussian Naive Bayes model accuracy(in %):\", round(metrics.accuracy_score(y_test, y_pred)*100,2))\n",
    "\n",
    "# Fit Random Forest Classifier to our Training Data\n",
    "rfc = RandomForestClassifier(max_depth=5, random_state=2, n_estimators=750)\n",
    "rfc.fit(X_train, y_train)\n",
    "\n",
    "# make prediction using our test data and model\n",
    "y_pred_rfc = rfc.predict(X_test)\n",
    "y_prob_rfc = rfc.predict_proba(X_test)[:, 1]\n",
    "\n",
    "# Comparing our prediciton to response values\n",
    "print('Random Forest Classifier model accuracy(in %):', round(metrics.accuracy_score(y_test, y_pred_rfc)*100,2))\n",
    "\n",
    "logreg_cv = LogisticRegression(solver='lbfgs', max_iter=1000)\n",
    "knn_cv=KNeighborsClassifier()\n",
    "\n",
    "logreg_cv.fit(X_train, y_train)\n",
    "knn_cv.fit(X_train, y_train)\n",
    "\n",
    "y_pred_logreg = logreg_cv.predict(X_test)\n",
    "y_pred_knn = knn_cv.predict(X_test)\n",
    "\n",
    "\n"
   ]
  },
  {
   "cell_type": "code",
   "execution_count": 302,
   "id": "e2dd03d1",
   "metadata": {},
   "outputs": [],
   "source": [
    "clf = MLPClassifier(random_state=1, max_iter=10000).fit(X_train, y_train)\n",
    "mlp_predict = clf.predict(X_test)"
   ]
  },
  {
   "cell_type": "code",
   "execution_count": 303,
   "id": "f66752db",
   "metadata": {},
   "outputs": [
    {
     "name": "stdout",
     "output_type": "stream",
     "text": [
      "Naive Bayes\n",
      "-------------\n",
      "              precision    recall  f1-score   support\n",
      "\n",
      "       False       0.92      0.90      0.91      3170\n",
      "        True       0.47      0.52      0.49       529\n",
      "\n",
      "    accuracy                           0.85      3699\n",
      "   macro avg       0.69      0.71      0.70      3699\n",
      "weighted avg       0.85      0.85      0.85      3699\n",
      "\n",
      "Random Forest Classifier\n",
      "------------------------\n",
      "              precision    recall  f1-score   support\n",
      "\n",
      "       False       0.92      0.98      0.95      3170\n",
      "        True       0.78      0.47      0.58       529\n",
      "\n",
      "    accuracy                           0.90      3699\n",
      "   macro avg       0.85      0.72      0.76      3699\n",
      "weighted avg       0.90      0.90      0.89      3699\n",
      "\n",
      "Logistic Regression\n",
      "-------------------\n",
      "              precision    recall  f1-score   support\n",
      "\n",
      "       False       0.90      0.97      0.94      3170\n",
      "        True       0.70      0.37      0.48       529\n",
      "\n",
      "    accuracy                           0.89      3699\n",
      "   macro avg       0.80      0.67      0.71      3699\n",
      "weighted avg       0.87      0.89      0.87      3699\n",
      "\n",
      "K-Nearest Neighbor\n",
      "-------------------\n",
      "              precision    recall  f1-score   support\n",
      "\n",
      "       False       0.90      0.96      0.93      3170\n",
      "        True       0.61      0.33      0.43       529\n",
      "\n",
      "    accuracy                           0.87      3699\n",
      "   macro avg       0.75      0.65      0.68      3699\n",
      "weighted avg       0.86      0.87      0.86      3699\n",
      "\n",
      "Multilayer perceptron (MLP)\n",
      "---------------------------\n",
      "              precision    recall  f1-score   support\n",
      "\n",
      "       False       0.88      1.00      0.93      3170\n",
      "        True       0.86      0.16      0.28       529\n",
      "\n",
      "    accuracy                           0.88      3699\n",
      "   macro avg       0.87      0.58      0.60      3699\n",
      "weighted avg       0.87      0.88      0.84      3699\n",
      "\n"
     ]
    }
   ],
   "source": [
    "print(\"Naive Bayes\")\n",
    "print(\"-------------\")\n",
    "cr = metrics.classification_report(y_test, y_pred)\n",
    "print(cr)\n",
    "print(\"Random Forest Classifier\")\n",
    "print(\"------------------------\")\n",
    "cr = metrics.classification_report(y_test, y_pred_rfc)\n",
    "print(cr)\n",
    "print(\"Logistic Regression\")\n",
    "print(\"-------------------\")\n",
    "cr = metrics.classification_report(y_test, y_pred_logreg)\n",
    "print(cr)\n",
    "print(\"K-Nearest Neighbor\")\n",
    "print(\"-------------------\")\n",
    "cr = metrics.classification_report(y_test, y_pred_knn)\n",
    "print(cr)\n",
    "print(\"Multilayer perceptron (MLP)\")\n",
    "print(\"---------------------------\")\n",
    "cr = metrics.classification_report(y_test, mlp_predict)\n",
    "print(cr)\n"
   ]
  },
  {
   "cell_type": "code",
   "execution_count": 304,
   "id": "5142e2d0",
   "metadata": {},
   "outputs": [],
   "source": [
    "X_train, X_test, y_train, y_test = train_test_split(X, y,random_state=2, test_size=.3)"
   ]
  },
  {
   "cell_type": "code",
   "execution_count": 305,
   "id": "de72469a",
   "metadata": {},
   "outputs": [
    {
     "name": "stdout",
     "output_type": "stream",
     "text": [
      "Gaussian Naive Bayes model accuracy(in %): 84.75\n"
     ]
    }
   ],
   "source": [
    "# Fit Gaussian Naive Bayes Classifier to our training data\n",
    "gnb = GaussianNB() \n",
    "gnb.fit(X_train, y_train) \n",
    "\n",
    "# Make prediction using our test data and model\n",
    "y_pred = gnb.predict(X_test) \n",
    "\n",
    "# Comparing our prediction to response values\n",
    "print(\"Gaussian Naive Bayes model accuracy(in %):\", round(metrics.accuracy_score(y_test, y_pred)*100,2))"
   ]
  },
  {
   "cell_type": "code",
   "execution_count": 306,
   "id": "0bac03fd",
   "metadata": {},
   "outputs": [
    {
     "name": "stdout",
     "output_type": "stream",
     "text": [
      "Training Accuracy:  0.8394160583941606\n",
      "Testing Accuracy:  0.8475263584752636\n"
     ]
    }
   ],
   "source": [
    "# evaluating the model\n",
    "print(\"Training Accuracy: \", gnb.score(X_train, y_train))\n",
    "print(\"Testing Accuracy: \", gnb.score(X_test, y_test))"
   ]
  },
  {
   "cell_type": "code",
   "execution_count": 307,
   "id": "fad69f46",
   "metadata": {},
   "outputs": [
    {
     "data": {
      "image/png": "[encoded data removed]",
      "text/plain": [
       "<Figure size 432x432 with 2 Axes>"
      ]
     },
     "metadata": {
      "needs_background": "light"
     },
     "output_type": "display_data"
    }
   ],
   "source": [
    "# confusion matrix\n",
    "cm = metrics.confusion_matrix(y_test, y_pred)\n",
    "plt.rcParams['figure.figsize'] = (6, 6)\n",
    "sns.heatmap(cm, annot = True)\n",
    "plt.show()"
   ]
  },
  {
   "cell_type": "code",
   "execution_count": 308,
   "id": "2ecf1d8f",
   "metadata": {},
   "outputs": [],
   "source": [
    "from sklearn import metrics"
   ]
  },
  {
   "cell_type": "code",
   "execution_count": 309,
   "id": "75871450",
   "metadata": {},
   "outputs": [
    {
     "name": "stdout",
     "output_type": "stream",
     "text": [
      "              precision    recall  f1-score   support\n",
      "\n",
      "       False       0.92      0.90      0.91      3170\n",
      "        True       0.47      0.52      0.49       529\n",
      "\n",
      "    accuracy                           0.85      3699\n",
      "   macro avg       0.69      0.71      0.70      3699\n",
      "weighted avg       0.85      0.85      0.85      3699\n",
      "\n"
     ]
    }
   ],
   "source": [
    "cr = metrics.classification_report(y_test, y_pred)\n",
    "print(cr)"
   ]
  },
  {
   "cell_type": "code",
   "execution_count": 310,
   "id": "94bca814",
   "metadata": {},
   "outputs": [
    {
     "name": "stdout",
     "output_type": "stream",
     "text": [
      "Random Forest Classifier model accuracy(in %): 90.46\n"
     ]
    }
   ],
   "source": [
    "# Fit Random Forest Classifier to our Training Data\n",
    "rfc = RandomForestClassifier(max_depth=5, random_state=2, n_estimators=750)\n",
    "rfc.fit(X_train, y_train)\n",
    "\n",
    "# make prediction using our test data and model\n",
    "y_pred_rfc = rfc.predict(X_test)\n",
    "y_prob_rfc = rfc.predict_proba(X_test)[:, 1]\n",
    "\n",
    "# Comparing our prediciton to response values\n",
    "print('Random Forest Classifier model accuracy(in %):', round(metrics.accuracy_score(y_test, y_pred_rfc)*100,2))"
   ]
  },
  {
   "cell_type": "code",
   "execution_count": 311,
   "id": "ad013da1",
   "metadata": {},
   "outputs": [
    {
     "name": "stdout",
     "output_type": "stream",
     "text": [
      "Training Accuracy:  0.9031398447456842\n",
      "Testing Accuracy:  0.9045688023790214\n"
     ]
    }
   ],
   "source": [
    "# evaluating the model\n",
    "print(\"Training Accuracy: \", rfc.score(X_train, y_train))\n",
    "print(\"Testing Accuracy: \", rfc.score(X_test, y_test))"
   ]
  },
  {
   "cell_type": "code",
   "execution_count": 312,
   "id": "246c7e3c",
   "metadata": {},
   "outputs": [],
   "source": [
    "from sklearn.linear_model import LogisticRegression\n",
    "from sklearn.neighbors import KNeighborsClassifier"
   ]
  },
  {
   "cell_type": "code",
   "execution_count": 313,
   "id": "51fdbd65",
   "metadata": {},
   "outputs": [
    {
     "data": {
      "text/plain": [
       "KNeighborsClassifier()"
      ]
     },
     "execution_count": 313,
     "metadata": {},
     "output_type": "execute_result"
    }
   ],
   "source": [
    "logreg_cv = LogisticRegression(solver='lbfgs', max_iter=1000)\n",
    "knn_cv=KNeighborsClassifier()\n",
    "\n",
    "logreg_cv.fit(X_train, y_train)\n",
    "knn_cv.fit(X_train, y_train)"
   ]
  },
  {
   "cell_type": "code",
   "execution_count": 314,
   "id": "13f1efaa",
   "metadata": {},
   "outputs": [
    {
     "name": "stdout",
     "output_type": "stream",
     "text": [
      "Training Accuracy:  0.881242034526706\n",
      "Testing Accuracy:  0.8867261422005948\n"
     ]
    }
   ],
   "source": [
    "# evaluating the model\n",
    "print(\"Training Accuracy: \", logreg_cv.score(X_train, y_train))\n",
    "print(\"Testing Accuracy: \", logreg_cv.score(X_test, y_test))"
   ]
  },
  {
   "cell_type": "code",
   "execution_count": 315,
   "id": "3920a4c2",
   "metadata": {},
   "outputs": [
    {
     "name": "stdout",
     "output_type": "stream",
     "text": [
      "Training Accuracy:  0.8903950874753794\n",
      "Testing Accuracy:  0.8740200054068668\n"
     ]
    }
   ],
   "source": [
    "# evaluating the model\n",
    "print(\"Training Accuracy: \", knn_cv.score(X_train, y_train))\n",
    "print(\"Testing Accuracy: \", knn_cv.score(X_test, y_test))"
   ]
  },
  {
   "cell_type": "code",
   "execution_count": 316,
   "id": "937d6f49",
   "metadata": {},
   "outputs": [],
   "source": [
    "y_pred_logreg = logreg_cv.predict(X_test)\n",
    "y_pred_knn = knn_cv.predict(X_test)"
   ]
  },
  {
   "cell_type": "code",
   "execution_count": 317,
   "id": "33f9fe21",
   "metadata": {},
   "outputs": [],
   "source": [
    "from sklearn.neural_network import MLPClassifier"
   ]
  },
  {
   "cell_type": "code",
   "execution_count": 318,
   "id": "62ac4b42",
   "metadata": {},
   "outputs": [],
   "source": [
    "clf = MLPClassifier(random_state=1, max_iter=10000).fit(X_train, y_train)"
   ]
  },
  {
   "cell_type": "code",
   "execution_count": 319,
   "id": "2216f1af",
   "metadata": {},
   "outputs": [],
   "source": [
    "mlp_predict = clf.predict(X_test)"
   ]
  },
  {
   "cell_type": "code",
   "execution_count": 320,
   "id": "acf3ccfe",
   "metadata": {},
   "outputs": [
    {
     "name": "stdout",
     "output_type": "stream",
     "text": [
      "Training Accuracy:  0.8656007415131503\n",
      "Testing Accuracy:  0.8767234387672344\n"
     ]
    }
   ],
   "source": [
    "# evaluating the model\n",
    "print(\"Training Accuracy: \", clf.score(X_train, y_train))\n",
    "print(\"Testing Accuracy: \", clf.score(X_test, y_test))"
   ]
  },
  {
   "cell_type": "code",
   "execution_count": 321,
   "id": "845502c1",
   "metadata": {},
   "outputs": [
    {
     "name": "stdout",
     "output_type": "stream",
     "text": [
      "Naive Bayes\n",
      "-------------\n",
      "              precision    recall  f1-score   support\n",
      "\n",
      "       False       0.92      0.90      0.91      3170\n",
      "        True       0.47      0.52      0.49       529\n",
      "\n",
      "    accuracy                           0.85      3699\n",
      "   macro avg       0.69      0.71      0.70      3699\n",
      "weighted avg       0.85      0.85      0.85      3699\n",
      "\n",
      "Random Forest Classifier\n",
      "------------------------\n",
      "              precision    recall  f1-score   support\n",
      "\n",
      "       False       0.92      0.98      0.95      3170\n",
      "        True       0.78      0.47      0.58       529\n",
      "\n",
      "    accuracy                           0.90      3699\n",
      "   macro avg       0.85      0.72      0.76      3699\n",
      "weighted avg       0.90      0.90      0.89      3699\n",
      "\n",
      "Logistic Regression\n",
      "-------------------\n",
      "              precision    recall  f1-score   support\n",
      "\n",
      "       False       0.90      0.97      0.94      3170\n",
      "        True       0.70      0.37      0.48       529\n",
      "\n",
      "    accuracy                           0.89      3699\n",
      "   macro avg       0.80      0.67      0.71      3699\n",
      "weighted avg       0.87      0.89      0.87      3699\n",
      "\n",
      "K-Nearest Neighbor\n",
      "-------------------\n",
      "              precision    recall  f1-score   support\n",
      "\n",
      "       False       0.90      0.96      0.93      3170\n",
      "        True       0.61      0.33      0.43       529\n",
      "\n",
      "    accuracy                           0.87      3699\n",
      "   macro avg       0.75      0.65      0.68      3699\n",
      "weighted avg       0.86      0.87      0.86      3699\n",
      "\n",
      "Multilayer perceptron (MLP)\n",
      "---------------------------\n",
      "              precision    recall  f1-score   support\n",
      "\n",
      "       False       0.88      1.00      0.93      3170\n",
      "        True       0.86      0.16      0.28       529\n",
      "\n",
      "    accuracy                           0.88      3699\n",
      "   macro avg       0.87      0.58      0.60      3699\n",
      "weighted avg       0.87      0.88      0.84      3699\n",
      "\n"
     ]
    }
   ],
   "source": [
    "print(\"Naive Bayes\")\n",
    "print(\"-------------\")\n",
    "cr = metrics.classification_report(y_test, y_pred)\n",
    "print(cr)\n",
    "print(\"Random Forest Classifier\")\n",
    "print(\"------------------------\")\n",
    "cr = metrics.classification_report(y_test, y_pred_rfc)\n",
    "print(cr)\n",
    "print(\"Logistic Regression\")\n",
    "print(\"-------------------\")\n",
    "cr = metrics.classification_report(y_test, y_pred_logreg)\n",
    "print(cr)\n",
    "print(\"K-Nearest Neighbor\")\n",
    "print(\"-------------------\")\n",
    "cr = metrics.classification_report(y_test, y_pred_knn)\n",
    "print(cr)\n",
    "print(\"Multilayer perceptron (MLP)\")\n",
    "print(\"---------------------------\")\n",
    "cr = metrics.classification_report(y_test, mlp_predict)\n",
    "print(cr)\n"
   ]
  },
  {
   "cell_type": "code",
   "execution_count": 322,
   "id": "6d4dbab8",
   "metadata": {},
   "outputs": [],
   "source": [
    "from sklearn.feature_selection import SelectKBest\n",
    "from sklearn.feature_selection import f_classif"
   ]
  },
  {
   "cell_type": "code",
   "execution_count": 323,
   "id": "2cd75a47",
   "metadata": {},
   "outputs": [
    {
     "name": "stdout",
     "output_type": "stream",
     "text": [
      "[[ 0.          0.          1.         ...  0.2         0.\n",
      "   1.        ]\n",
      " [ 0.          0.          2.         ...  0.1         0.\n",
      "   1.        ]\n",
      " [ 0.          0.          1.         ...  0.2         0.\n",
      "   1.        ]\n",
      " ...\n",
      " [ 0.          0.          6.         ...  0.08666667  0.\n",
      "   1.        ]\n",
      " [ 4.          0.         15.         ...  0.02105263  0.\n",
      "   1.        ]\n",
      " [ 0.          0.          3.         ...  0.06666667  0.\n",
      "   0.        ]]\n",
      "Original number of features: (12330, 12)\n",
      "Reduced number of features: (12330, 8)\n"
     ]
    }
   ],
   "source": [
    "# ANOVA F-value features selection technique\n",
    "fvalue_Best = SelectKBest(f_classif, k=8)\n",
    "X_kbest = fvalue_Best.fit_transform(X, y)\n",
    "print(X_kbest)\n",
    "\n",
    "print('Original number of features:', X.shape)\n",
    "print('Reduced number of features:', X_kbest.shape)"
   ]
  },
  {
   "cell_type": "code",
   "execution_count": 324,
   "id": "7e1b2084",
   "metadata": {},
   "outputs": [],
   "source": [
    "X_train, X_test, y_train, y_test = train_test_split(X, y,random_state=2, test_size=.3)"
   ]
  },
  {
   "cell_type": "code",
   "execution_count": 325,
   "id": "62a8327a",
   "metadata": {},
   "outputs": [
    {
     "name": "stdout",
     "output_type": "stream",
     "text": [
      "Gaussian Naive Bayes model accuracy(in %): 84.75\n",
      "Random Forest Classifier model accuracy(in %): 90.46\n"
     ]
    }
   ],
   "source": [
    "# Fit Gaussian Naive Bayes Classifier to our training data\n",
    "gnb = GaussianNB() \n",
    "gnb.fit(X_train, y_train) \n",
    "\n",
    "# Make prediction using our test data and model\n",
    "y_pred = gnb.predict(X_test) \n",
    "\n",
    "# Comparing our prediction to response values\n",
    "print(\"Gaussian Naive Bayes model accuracy(in %):\", round(metrics.accuracy_score(y_test, y_pred)*100,2))\n",
    "\n",
    "# Fit Random Forest Classifier to our Training Data\n",
    "rfc = RandomForestClassifier(max_depth=5, random_state=2, n_estimators=750)\n",
    "rfc.fit(X_train, y_train)\n",
    "\n",
    "# make prediction using our test data and model\n",
    "y_pred_rfc = rfc.predict(X_test)\n",
    "y_prob_rfc = rfc.predict_proba(X_test)[:, 1]\n",
    "\n",
    "# Comparing our prediciton to response values\n",
    "print('Random Forest Classifier model accuracy(in %):', round(metrics.accuracy_score(y_test, y_pred_rfc)*100,2))\n",
    "\n",
    "logreg_cv = LogisticRegression(solver='lbfgs', max_iter=1000)\n",
    "knn_cv=KNeighborsClassifier()\n",
    "\n",
    "logreg_cv.fit(X_train, y_train)\n",
    "knn_cv.fit(X_train, y_train)\n",
    "\n",
    "y_pred_logreg = logreg_cv.predict(X_test)\n",
    "y_pred_knn = knn_cv.predict(X_test)\n"
   ]
  },
  {
   "cell_type": "code",
   "execution_count": 326,
   "id": "16ba0adf",
   "metadata": {},
   "outputs": [],
   "source": [
    "clf = MLPClassifier(random_state=1, max_iter=10000).fit(X_train, y_train)\n",
    "mlp_predict = clf.predict(X_test)"
   ]
  },
  {
   "cell_type": "code",
   "execution_count": 327,
   "id": "f5385583",
   "metadata": {},
   "outputs": [
    {
     "name": "stdout",
     "output_type": "stream",
     "text": [
      "Naive Bayes\n",
      "-------------\n",
      "              precision    recall  f1-score   support\n",
      "\n",
      "       False       0.92      0.90      0.91      3170\n",
      "        True       0.47      0.52      0.49       529\n",
      "\n",
      "    accuracy                           0.85      3699\n",
      "   macro avg       0.69      0.71      0.70      3699\n",
      "weighted avg       0.85      0.85      0.85      3699\n",
      "\n",
      "Random Forest Classifier\n",
      "------------------------\n",
      "              precision    recall  f1-score   support\n",
      "\n",
      "       False       0.92      0.98      0.95      3170\n",
      "        True       0.78      0.47      0.58       529\n",
      "\n",
      "    accuracy                           0.90      3699\n",
      "   macro avg       0.85      0.72      0.76      3699\n",
      "weighted avg       0.90      0.90      0.89      3699\n",
      "\n",
      "Logistic Regression\n",
      "-------------------\n",
      "              precision    recall  f1-score   support\n",
      "\n",
      "       False       0.90      0.97      0.94      3170\n",
      "        True       0.70      0.37      0.48       529\n",
      "\n",
      "    accuracy                           0.89      3699\n",
      "   macro avg       0.80      0.67      0.71      3699\n",
      "weighted avg       0.87      0.89      0.87      3699\n",
      "\n",
      "K-Nearest Neighbor\n",
      "-------------------\n",
      "              precision    recall  f1-score   support\n",
      "\n",
      "       False       0.90      0.96      0.93      3170\n",
      "        True       0.61      0.33      0.43       529\n",
      "\n",
      "    accuracy                           0.87      3699\n",
      "   macro avg       0.75      0.65      0.68      3699\n",
      "weighted avg       0.86      0.87      0.86      3699\n",
      "\n",
      "Multilayer perceptron (MLP)\n",
      "---------------------------\n",
      "              precision    recall  f1-score   support\n",
      "\n",
      "       False       0.88      1.00      0.93      3170\n",
      "        True       0.86      0.16      0.28       529\n",
      "\n",
      "    accuracy                           0.88      3699\n",
      "   macro avg       0.87      0.58      0.60      3699\n",
      "weighted avg       0.87      0.88      0.84      3699\n",
      "\n"
     ]
    }
   ],
   "source": [
    "print(\"Naive Bayes\")\n",
    "print(\"-------------\")\n",
    "cr = metrics.classification_report(y_test, y_pred)\n",
    "print(cr)\n",
    "print(\"Random Forest Classifier\")\n",
    "print(\"------------------------\")\n",
    "cr = metrics.classification_report(y_test, y_pred_rfc)\n",
    "print(cr)\n",
    "print(\"Logistic Regression\")\n",
    "print(\"-------------------\")\n",
    "cr = metrics.classification_report(y_test, y_pred_logreg)\n",
    "print(cr)\n",
    "print(\"K-Nearest Neighbor\")\n",
    "print(\"-------------------\")\n",
    "cr = metrics.classification_report(y_test, y_pred_knn)\n",
    "print(cr)\n",
    "print(\"Multilayer perceptron (MLP)\")\n",
    "print(\"---------------------------\")\n",
    "cr = metrics.classification_report(y_test, mlp_predict)\n",
    "print(cr)\n"
   ]
  },
  {
   "cell_type": "code",
   "execution_count": null,
   "id": "ab4b9163",
   "metadata": {},
   "outputs": [],
   "source": []
  }
 ],
 "metadata": {
  "kernelspec": {
   "display_name": "Python 3 (ipykernel)",
   "language": "python",
   "name": "python3"
  },
  "language_info": {
   "codemirror_mode": {
    "name": "ipython",
    "version": 3
   },
   "file_extension": ".py",
   "mimetype": "text/x-python",
   "name": "python",
   "nbconvert_exporter": "python",
   "pygments_lexer": "ipython3",
   "version": "3.9.7"
  }
 },
 "nbformat": 4,
 "nbformat_minor": 5
}
