{
 "cells": [
  {
   "cell_type": "code",
   "execution_count": 11,
   "id": "be53919d",
   "metadata": {},
   "outputs": [],
   "source": [
    "import pandas as pd \n",
    "import seaborn as sns \n",
    "import matplotlib.pyplot as plt \n",
    "from sklearn.cluster import KMeans \n",
    "import warnings \n",
    "warnings.filterwarnings('ignore') "
   ]
  },
  {
   "cell_type": "code",
   "execution_count": 12,
   "id": "e2749137",
   "metadata": {},
   "outputs": [
    {
     "ename": "FileNotFoundError",
     "evalue": "[Errno 2] No such file or directory: 'C:/Users/User/Desktop/Projects/Python/mall_Customers'",
     "output_type": "error",
     "traceback": [
      "\u001b[1;31m---------------------------------------------------------------------------\u001b[0m",
      "\u001b[1;31mFileNotFoundError\u001b[0m                         Traceback (most recent call last)",
      "\u001b[1;32m~\\AppData\\Local\\Temp/ipykernel_16420/3093157922.py\u001b[0m in \u001b[0;36m<module>\u001b[1;34m\u001b[0m\n\u001b[1;32m----> 1\u001b[1;33m \u001b[0mdf\u001b[0m \u001b[1;33m=\u001b[0m \u001b[0mpd\u001b[0m\u001b[1;33m.\u001b[0m\u001b[0mread_csv\u001b[0m \u001b[1;33m(\u001b[0m\u001b[1;34m\"C:/Users/User/Desktop/Projects/Python/mall_Customers\"\u001b[0m\u001b[1;33m)\u001b[0m\u001b[1;33m\u001b[0m\u001b[1;33m\u001b[0m\u001b[0m\n\u001b[0m",
      "\u001b[1;32m~\\anaconda3\\lib\\site-packages\\pandas\\util\\_decorators.py\u001b[0m in \u001b[0;36mwrapper\u001b[1;34m(*args, **kwargs)\u001b[0m\n\u001b[0;32m    309\u001b[0m                     \u001b[0mstacklevel\u001b[0m\u001b[1;33m=\u001b[0m\u001b[0mstacklevel\u001b[0m\u001b[1;33m,\u001b[0m\u001b[1;33m\u001b[0m\u001b[1;33m\u001b[0m\u001b[0m\n\u001b[0;32m    310\u001b[0m                 )\n\u001b[1;32m--> 311\u001b[1;33m             \u001b[1;32mreturn\u001b[0m \u001b[0mfunc\u001b[0m\u001b[1;33m(\u001b[0m\u001b[1;33m*\u001b[0m\u001b[0margs\u001b[0m\u001b[1;33m,\u001b[0m \u001b[1;33m**\u001b[0m\u001b[0mkwargs\u001b[0m\u001b[1;33m)\u001b[0m\u001b[1;33m\u001b[0m\u001b[1;33m\u001b[0m\u001b[0m\n\u001b[0m\u001b[0;32m    312\u001b[0m \u001b[1;33m\u001b[0m\u001b[0m\n\u001b[0;32m    313\u001b[0m         \u001b[1;32mreturn\u001b[0m \u001b[0mwrapper\u001b[0m\u001b[1;33m\u001b[0m\u001b[1;33m\u001b[0m\u001b[0m\n",
      "\u001b[1;32m~\\anaconda3\\lib\\site-packages\\pandas\\io\\parsers\\readers.py\u001b[0m in \u001b[0;36mread_csv\u001b[1;34m(filepath_or_buffer, sep, delimiter, header, names, index_col, usecols, squeeze, prefix, mangle_dupe_cols, dtype, engine, converters, true_values, false_values, skipinitialspace, skiprows, skipfooter, nrows, na_values, keep_default_na, na_filter, verbose, skip_blank_lines, parse_dates, infer_datetime_format, keep_date_col, date_parser, dayfirst, cache_dates, iterator, chunksize, compression, thousands, decimal, lineterminator, quotechar, quoting, doublequote, escapechar, comment, encoding, encoding_errors, dialect, error_bad_lines, warn_bad_lines, on_bad_lines, delim_whitespace, low_memory, memory_map, float_precision, storage_options)\u001b[0m\n\u001b[0;32m    584\u001b[0m     \u001b[0mkwds\u001b[0m\u001b[1;33m.\u001b[0m\u001b[0mupdate\u001b[0m\u001b[1;33m(\u001b[0m\u001b[0mkwds_defaults\u001b[0m\u001b[1;33m)\u001b[0m\u001b[1;33m\u001b[0m\u001b[1;33m\u001b[0m\u001b[0m\n\u001b[0;32m    585\u001b[0m \u001b[1;33m\u001b[0m\u001b[0m\n\u001b[1;32m--> 586\u001b[1;33m     \u001b[1;32mreturn\u001b[0m \u001b[0m_read\u001b[0m\u001b[1;33m(\u001b[0m\u001b[0mfilepath_or_buffer\u001b[0m\u001b[1;33m,\u001b[0m \u001b[0mkwds\u001b[0m\u001b[1;33m)\u001b[0m\u001b[1;33m\u001b[0m\u001b[1;33m\u001b[0m\u001b[0m\n\u001b[0m\u001b[0;32m    587\u001b[0m \u001b[1;33m\u001b[0m\u001b[0m\n\u001b[0;32m    588\u001b[0m \u001b[1;33m\u001b[0m\u001b[0m\n",
      "\u001b[1;32m~\\anaconda3\\lib\\site-packages\\pandas\\io\\parsers\\readers.py\u001b[0m in \u001b[0;36m_read\u001b[1;34m(filepath_or_buffer, kwds)\u001b[0m\n\u001b[0;32m    480\u001b[0m \u001b[1;33m\u001b[0m\u001b[0m\n\u001b[0;32m    481\u001b[0m     \u001b[1;31m# Create the parser.\u001b[0m\u001b[1;33m\u001b[0m\u001b[1;33m\u001b[0m\u001b[0m\n\u001b[1;32m--> 482\u001b[1;33m     \u001b[0mparser\u001b[0m \u001b[1;33m=\u001b[0m \u001b[0mTextFileReader\u001b[0m\u001b[1;33m(\u001b[0m\u001b[0mfilepath_or_buffer\u001b[0m\u001b[1;33m,\u001b[0m \u001b[1;33m**\u001b[0m\u001b[0mkwds\u001b[0m\u001b[1;33m)\u001b[0m\u001b[1;33m\u001b[0m\u001b[1;33m\u001b[0m\u001b[0m\n\u001b[0m\u001b[0;32m    483\u001b[0m \u001b[1;33m\u001b[0m\u001b[0m\n\u001b[0;32m    484\u001b[0m     \u001b[1;32mif\u001b[0m \u001b[0mchunksize\u001b[0m \u001b[1;32mor\u001b[0m \u001b[0miterator\u001b[0m\u001b[1;33m:\u001b[0m\u001b[1;33m\u001b[0m\u001b[1;33m\u001b[0m\u001b[0m\n",
      "\u001b[1;32m~\\anaconda3\\lib\\site-packages\\pandas\\io\\parsers\\readers.py\u001b[0m in \u001b[0;36m__init__\u001b[1;34m(self, f, engine, **kwds)\u001b[0m\n\u001b[0;32m    809\u001b[0m             \u001b[0mself\u001b[0m\u001b[1;33m.\u001b[0m\u001b[0moptions\u001b[0m\u001b[1;33m[\u001b[0m\u001b[1;34m\"has_index_names\"\u001b[0m\u001b[1;33m]\u001b[0m \u001b[1;33m=\u001b[0m \u001b[0mkwds\u001b[0m\u001b[1;33m[\u001b[0m\u001b[1;34m\"has_index_names\"\u001b[0m\u001b[1;33m]\u001b[0m\u001b[1;33m\u001b[0m\u001b[1;33m\u001b[0m\u001b[0m\n\u001b[0;32m    810\u001b[0m \u001b[1;33m\u001b[0m\u001b[0m\n\u001b[1;32m--> 811\u001b[1;33m         \u001b[0mself\u001b[0m\u001b[1;33m.\u001b[0m\u001b[0m_engine\u001b[0m \u001b[1;33m=\u001b[0m \u001b[0mself\u001b[0m\u001b[1;33m.\u001b[0m\u001b[0m_make_engine\u001b[0m\u001b[1;33m(\u001b[0m\u001b[0mself\u001b[0m\u001b[1;33m.\u001b[0m\u001b[0mengine\u001b[0m\u001b[1;33m)\u001b[0m\u001b[1;33m\u001b[0m\u001b[1;33m\u001b[0m\u001b[0m\n\u001b[0m\u001b[0;32m    812\u001b[0m \u001b[1;33m\u001b[0m\u001b[0m\n\u001b[0;32m    813\u001b[0m     \u001b[1;32mdef\u001b[0m \u001b[0mclose\u001b[0m\u001b[1;33m(\u001b[0m\u001b[0mself\u001b[0m\u001b[1;33m)\u001b[0m\u001b[1;33m:\u001b[0m\u001b[1;33m\u001b[0m\u001b[1;33m\u001b[0m\u001b[0m\n",
      "\u001b[1;32m~\\anaconda3\\lib\\site-packages\\pandas\\io\\parsers\\readers.py\u001b[0m in \u001b[0;36m_make_engine\u001b[1;34m(self, engine)\u001b[0m\n\u001b[0;32m   1038\u001b[0m             )\n\u001b[0;32m   1039\u001b[0m         \u001b[1;31m# error: Too many arguments for \"ParserBase\"\u001b[0m\u001b[1;33m\u001b[0m\u001b[1;33m\u001b[0m\u001b[0m\n\u001b[1;32m-> 1040\u001b[1;33m         \u001b[1;32mreturn\u001b[0m \u001b[0mmapping\u001b[0m\u001b[1;33m[\u001b[0m\u001b[0mengine\u001b[0m\u001b[1;33m]\u001b[0m\u001b[1;33m(\u001b[0m\u001b[0mself\u001b[0m\u001b[1;33m.\u001b[0m\u001b[0mf\u001b[0m\u001b[1;33m,\u001b[0m \u001b[1;33m**\u001b[0m\u001b[0mself\u001b[0m\u001b[1;33m.\u001b[0m\u001b[0moptions\u001b[0m\u001b[1;33m)\u001b[0m  \u001b[1;31m# type: ignore[call-arg]\u001b[0m\u001b[1;33m\u001b[0m\u001b[1;33m\u001b[0m\u001b[0m\n\u001b[0m\u001b[0;32m   1041\u001b[0m \u001b[1;33m\u001b[0m\u001b[0m\n\u001b[0;32m   1042\u001b[0m     \u001b[1;32mdef\u001b[0m \u001b[0m_failover_to_python\u001b[0m\u001b[1;33m(\u001b[0m\u001b[0mself\u001b[0m\u001b[1;33m)\u001b[0m\u001b[1;33m:\u001b[0m\u001b[1;33m\u001b[0m\u001b[1;33m\u001b[0m\u001b[0m\n",
      "\u001b[1;32m~\\anaconda3\\lib\\site-packages\\pandas\\io\\parsers\\c_parser_wrapper.py\u001b[0m in \u001b[0;36m__init__\u001b[1;34m(self, src, **kwds)\u001b[0m\n\u001b[0;32m     49\u001b[0m \u001b[1;33m\u001b[0m\u001b[0m\n\u001b[0;32m     50\u001b[0m         \u001b[1;31m# open handles\u001b[0m\u001b[1;33m\u001b[0m\u001b[1;33m\u001b[0m\u001b[0m\n\u001b[1;32m---> 51\u001b[1;33m         \u001b[0mself\u001b[0m\u001b[1;33m.\u001b[0m\u001b[0m_open_handles\u001b[0m\u001b[1;33m(\u001b[0m\u001b[0msrc\u001b[0m\u001b[1;33m,\u001b[0m \u001b[0mkwds\u001b[0m\u001b[1;33m)\u001b[0m\u001b[1;33m\u001b[0m\u001b[1;33m\u001b[0m\u001b[0m\n\u001b[0m\u001b[0;32m     52\u001b[0m         \u001b[1;32massert\u001b[0m \u001b[0mself\u001b[0m\u001b[1;33m.\u001b[0m\u001b[0mhandles\u001b[0m \u001b[1;32mis\u001b[0m \u001b[1;32mnot\u001b[0m \u001b[1;32mNone\u001b[0m\u001b[1;33m\u001b[0m\u001b[1;33m\u001b[0m\u001b[0m\n\u001b[0;32m     53\u001b[0m \u001b[1;33m\u001b[0m\u001b[0m\n",
      "\u001b[1;32m~\\anaconda3\\lib\\site-packages\\pandas\\io\\parsers\\base_parser.py\u001b[0m in \u001b[0;36m_open_handles\u001b[1;34m(self, src, kwds)\u001b[0m\n\u001b[0;32m    220\u001b[0m         \u001b[0mLet\u001b[0m \u001b[0mthe\u001b[0m \u001b[0mreaders\u001b[0m \u001b[0mopen\u001b[0m \u001b[0mIOHandles\u001b[0m \u001b[0mafter\u001b[0m \u001b[0mthey\u001b[0m \u001b[0mare\u001b[0m \u001b[0mdone\u001b[0m \u001b[1;32mwith\u001b[0m \u001b[0mtheir\u001b[0m \u001b[0mpotential\u001b[0m \u001b[0mraises\u001b[0m\u001b[1;33m.\u001b[0m\u001b[1;33m\u001b[0m\u001b[1;33m\u001b[0m\u001b[0m\n\u001b[0;32m    221\u001b[0m         \"\"\"\n\u001b[1;32m--> 222\u001b[1;33m         self.handles = get_handle(\n\u001b[0m\u001b[0;32m    223\u001b[0m             \u001b[0msrc\u001b[0m\u001b[1;33m,\u001b[0m\u001b[1;33m\u001b[0m\u001b[1;33m\u001b[0m\u001b[0m\n\u001b[0;32m    224\u001b[0m             \u001b[1;34m\"r\"\u001b[0m\u001b[1;33m,\u001b[0m\u001b[1;33m\u001b[0m\u001b[1;33m\u001b[0m\u001b[0m\n",
      "\u001b[1;32m~\\anaconda3\\lib\\site-packages\\pandas\\io\\common.py\u001b[0m in \u001b[0;36mget_handle\u001b[1;34m(path_or_buf, mode, encoding, compression, memory_map, is_text, errors, storage_options)\u001b[0m\n\u001b[0;32m    700\u001b[0m         \u001b[1;32mif\u001b[0m \u001b[0mioargs\u001b[0m\u001b[1;33m.\u001b[0m\u001b[0mencoding\u001b[0m \u001b[1;32mand\u001b[0m \u001b[1;34m\"b\"\u001b[0m \u001b[1;32mnot\u001b[0m \u001b[1;32min\u001b[0m \u001b[0mioargs\u001b[0m\u001b[1;33m.\u001b[0m\u001b[0mmode\u001b[0m\u001b[1;33m:\u001b[0m\u001b[1;33m\u001b[0m\u001b[1;33m\u001b[0m\u001b[0m\n\u001b[0;32m    701\u001b[0m             \u001b[1;31m# Encoding\u001b[0m\u001b[1;33m\u001b[0m\u001b[1;33m\u001b[0m\u001b[0m\n\u001b[1;32m--> 702\u001b[1;33m             handle = open(\n\u001b[0m\u001b[0;32m    703\u001b[0m                 \u001b[0mhandle\u001b[0m\u001b[1;33m,\u001b[0m\u001b[1;33m\u001b[0m\u001b[1;33m\u001b[0m\u001b[0m\n\u001b[0;32m    704\u001b[0m                 \u001b[0mioargs\u001b[0m\u001b[1;33m.\u001b[0m\u001b[0mmode\u001b[0m\u001b[1;33m,\u001b[0m\u001b[1;33m\u001b[0m\u001b[1;33m\u001b[0m\u001b[0m\n",
      "\u001b[1;31mFileNotFoundError\u001b[0m: [Errno 2] No such file or directory: 'C:/Users/User/Desktop/Projects/Python/mall_Customers'"
     ]
    }
   ],
   "source": [
    "df = pd.read_csv (\"C:/Users/User/Desktop/Projects/Python/mall_Customers.csv\")"
   ]
  },
  {
   "cell_type": "code",
   "execution_count": 6,
   "id": "2a466d6b",
   "metadata": {},
   "outputs": [
    {
     "ename": "NameError",
     "evalue": "name 'df' is not defined",
     "output_type": "error",
     "traceback": [
      "\u001b[1;31m---------------------------------------------------------------------------\u001b[0m",
      "\u001b[1;31mNameError\u001b[0m                                 Traceback (most recent call last)",
      "\u001b[1;32m~\\AppData\\Local\\Temp/ipykernel_16420/964094849.py\u001b[0m in \u001b[0;36m<module>\u001b[1;34m\u001b[0m\n\u001b[1;32m----> 1\u001b[1;33m \u001b[0mdf\u001b[0m\u001b[1;33m.\u001b[0m\u001b[0mhead\u001b[0m\u001b[1;33m(\u001b[0m\u001b[1;33m)\u001b[0m\u001b[1;33m\u001b[0m\u001b[1;33m\u001b[0m\u001b[0m\n\u001b[0m",
      "\u001b[1;31mNameError\u001b[0m: name 'df' is not defined"
     ]
    }
   ],
   "source": [
    "df.head()"
   ]
  },
  {
   "cell_type": "markdown",
   "id": "0d07a7a7",
   "metadata": {},
   "source": [
    "# Univeriate Analysis"
   ]
  },
  {
   "cell_type": "code",
   "execution_count": null,
   "id": "5529a09f",
   "metadata": {},
   "outputs": [],
   "source": [
    "#describe the datafiles statiscally \n",
    "df.describe()"
   ]
  },
  {
   "cell_type": "code",
   "execution_count": null,
   "id": "5015b35b",
   "metadata": {},
   "outputs": [],
   "source": [
    "#Creating a histogram to look at the normal income distribution using seaborn\n",
    "sns.distplot(df['Annual Income (k$)'])"
   ]
  },
  {
   "cell_type": "code",
   "execution_count": null,
   "id": "8eac381a",
   "metadata": {},
   "outputs": [],
   "source": [
    "df.columns"
   ]
  },
  {
   "cell_type": "code",
   "execution_count": null,
   "id": "9a65ab9f",
   "metadata": {},
   "outputs": [],
   "source": [
    "# creating a column of columns we want to analyse\n",
    "columns = [ 'Age', 'Annual Income (k$)', 'Spending Score (1-100)']"
   ]
  },
  {
   "cell_type": "code",
   "execution_count": null,
   "id": "62ca1eb5",
   "metadata": {},
   "outputs": [],
   "source": [
    "#creating a for loop \n",
    "for i in columns: \n",
    "    plt.figure() \n",
    "    sns.distplot(df[i])\n"
   ]
  },
  {
   "cell_type": "code",
   "execution_count": null,
   "id": "3e3831fa",
   "metadata": {},
   "outputs": [],
   "source": [
    "sns.kdeplot(df['Annual Income (k$)'], shade=True,hue=df['Gender']); "
   ]
  },
  {
   "cell_type": "code",
   "execution_count": null,
   "id": "52853a1b",
   "metadata": {},
   "outputs": [],
   "source": [
    "# another variation \n",
    "columns = [ 'Age', 'Annual Income (k$)', 'Spending Score (1-100)']\n",
    "for i in columns: \n",
    "    plt.figure() \n",
    "    sns.kdeplot(df[i], shade=True,hue=df['Gender']); "
   ]
  },
  {
   "cell_type": "code",
   "execution_count": null,
   "id": "00e3c90d",
   "metadata": {},
   "outputs": [],
   "source": [
    "# another variation using boxplot \n",
    "columns = [ 'Age', 'Annual Income (k$)', 'Spending Score (1-100)']\n",
    "for i in columns: \n",
    "    plt.figure() \n",
    "    sns.boxplot(data=df,x='Gender',y=df[i]) "
   ]
  },
  {
   "cell_type": "code",
   "execution_count": null,
   "id": "232ea193",
   "metadata": {},
   "outputs": [],
   "source": [
    "#analysing the Gender column of our data\n",
    "df['Gender'].value_counts() "
   ]
  },
  {
   "cell_type": "code",
   "execution_count": null,
   "id": "f00266b6",
   "metadata": {},
   "outputs": [],
   "source": [
    "#to get the percentage of the gender column \n",
    "df['Gender'].value_counts(normalize=True)"
   ]
  },
  {
   "cell_type": "markdown",
   "id": "61a40028",
   "metadata": {},
   "source": [
    "# Bivariate Analysis"
   ]
  },
  {
   "cell_type": "code",
   "execution_count": null,
   "id": "9787e0dd",
   "metadata": {},
   "outputs": [],
   "source": [
    "#Creating a scatterplot \n",
    "sns.scatterplot(data=df, x='Annual Income (k$)', y='Spending Score (1-100)')"
   ]
  },
  {
   "cell_type": "code",
   "execution_count": null,
   "id": "3c92e9f8",
   "metadata": {},
   "outputs": [],
   "source": [
    "#Creating a pairplot that pairs the scatter plot and histogram.\n",
    "#df=df.drop('CustomerID',axis=1)\n",
    "sns.pairplot(df,hue='Gender')\n",
    "#where axis 0 = rows and axis 1= columns "
   ]
  },
  {
   "cell_type": "code",
   "execution_count": null,
   "id": "5b4a9287",
   "metadata": {},
   "outputs": [],
   "source": [
    "#using groupby to find the mean values of our gender data\n",
    "df.groupby(['Gender', ]) ['Age', 'Annual Income (k$)', 'Spending Score (1-100)'].mean()"
   ]
  },
  {
   "cell_type": "code",
   "execution_count": null,
   "id": "2cc68ca7",
   "metadata": {},
   "outputs": [],
   "source": [
    "#finding the correlations in our data\n",
    "df.corr()"
   ]
  },
  {
   "cell_type": "code",
   "execution_count": null,
   "id": "a7179062",
   "metadata": {},
   "outputs": [],
   "source": [
    "#analysing the correlations using Heatmap \n",
    "sns.heatmap(df.corr(),annot=True, cmap='coolwarm')"
   ]
  },
  {
   "cell_type": "markdown",
   "id": "740f03d0",
   "metadata": {},
   "source": [
    "# Clustering - Univariate , Bivariate, Multivariate"
   ]
  },
  {
   "cell_type": "code",
   "execution_count": null,
   "id": "04b4f091",
   "metadata": {},
   "outputs": [],
   "source": [
    "#initiate our clustering\n",
    "clustering1 = KMeans(3)"
   ]
  },
  {
   "cell_type": "code",
   "execution_count": null,
   "id": "f133fea0",
   "metadata": {},
   "outputs": [],
   "source": [
    "#fitting to data \n",
    "clustering1.fit(df [['Annual Income (k$)']])\n"
   ]
  },
  {
   "cell_type": "code",
   "execution_count": null,
   "id": "39d34089",
   "metadata": {},
   "outputs": [],
   "source": [
    "#finding out out clustering labels \n",
    "clustering1.labels_"
   ]
  },
  {
   "cell_type": "code",
   "execution_count": null,
   "id": "08877473",
   "metadata": {},
   "outputs": [],
   "source": [
    "#putting the clusters in our Income Cluster to make summary statistics \n",
    "df['Income Cluster'] = clustering1.labels_ \n",
    "df.head()"
   ]
  },
  {
   "cell_type": "code",
   "execution_count": null,
   "id": "fb61dc0a",
   "metadata": {},
   "outputs": [],
   "source": [
    "#finding out how many of our customers fall within each cluster \n",
    "df['Income Cluster'].value_counts() "
   ]
  },
  {
   "cell_type": "code",
   "execution_count": null,
   "id": "60b9c5f8",
   "metadata": {},
   "outputs": [],
   "source": [
    "#using the elbow method particularly inertia \n",
    "clustering1.inertia_ "
   ]
  },
  {
   "cell_type": "code",
   "execution_count": null,
   "id": "59be368b",
   "metadata": {},
   "outputs": [],
   "source": [
    "#creating an efficient way to check the inertia of each cluster using for loop \n",
    "inertia_scores=[]\n",
    "for i in range(1,11): \n",
    "    kmeans=KMeans(n_clusters=i)\n",
    "    kmeans.fit(df[['Annual Income (k$)']])\n",
    "    inertia_scores.append(kmeans.inertia_)\n"
   ]
  },
  {
   "cell_type": "code",
   "execution_count": null,
   "id": "d852acb9",
   "metadata": {},
   "outputs": [],
   "source": [
    "inertia_scores"
   ]
  },
  {
   "cell_type": "code",
   "execution_count": null,
   "id": "67216e83",
   "metadata": {},
   "outputs": [],
   "source": [
    "#Plotting our inertia score\n",
    "plt.plot(range(1,11), inertia_scores)"
   ]
  },
  {
   "cell_type": "code",
   "execution_count": null,
   "id": "2fa1380a",
   "metadata": {},
   "outputs": [],
   "source": [
    "#finding the mean of age, spending score using groupby: \n",
    "df.groupby('Income Cluster')['Age', 'Annual Income (k$)', 'Spending Score (1-100)'].mean()"
   ]
  },
  {
   "cell_type": "markdown",
   "id": "d37867eb",
   "metadata": {},
   "source": [
    "# Bivariate Clustering "
   ]
  },
  {
   "cell_type": "code",
   "execution_count": null,
   "id": "6f63fcf6",
   "metadata": {},
   "outputs": [],
   "source": [
    "Clustering2 = KMeans(n_clusters = 5)\n",
    "Clustering2.fit(df[['Annual Income (k$)', 'Spending Score (1-100)']])\n",
    "df['Spending and Income Cluster'] = Clustering2.labels_\n",
    "df.head()"
   ]
  },
  {
   "cell_type": "code",
   "execution_count": null,
   "id": "50884756",
   "metadata": {},
   "outputs": [],
   "source": [
    "#creating an efficient way to check the inertia of each cluster using for loop \n",
    "inertia_scores2=[]\n",
    "for i in range(1,11): \n",
    "    kmeans2=KMeans(n_clusters=i)\n",
    "    kmeans2.fit(df[['Annual Income (k$)', 'Spending Score (1-100)']])\n",
    "    inertia_scores2.append(kmeans2.inertia_)\n",
    "plt.plot(range(1,11), inertia_scores2)"
   ]
  },
  {
   "cell_type": "code",
   "execution_count": null,
   "id": "96e4d3a0",
   "metadata": {},
   "outputs": [],
   "source": [
    "centers = pd.DataFrame(Clustering2.cluster_centers_)\n",
    "centers.columns = ['x','y']\n",
    "centers.describe()"
   ]
  },
  {
   "cell_type": "code",
   "execution_count": null,
   "id": "523613dd",
   "metadata": {},
   "outputs": [],
   "source": [
    "#Creating a scatterplot for our Bivariate clustering \n",
    "plt.figure(figsize=(10,8))\n",
    "plt.scatter(x=centers['x'],y=centers['y'], s=100, c='black',marker='*')\n",
    "sns.scatterplot(data=df, x='Annual Income (k$)', y='Spending Score (1-100)', hue ='Spending and Income Cluster',palette='tab10')"
   ]
  },
  {
   "cell_type": "code",
   "execution_count": null,
   "id": "820b23e2",
   "metadata": {},
   "outputs": [],
   "source": [
    "pd.crosstab(df['Spending and Income Cluster'], df['Gender'])"
   ]
  },
  {
   "cell_type": "code",
   "execution_count": null,
   "id": "c315e743",
   "metadata": {},
   "outputs": [],
   "source": [
    "pd.crosstab(df['Spending and Income Cluster'], df['Gender'], normalize='index')"
   ]
  },
  {
   "cell_type": "code",
   "execution_count": null,
   "id": "b41d6fac",
   "metadata": {},
   "outputs": [],
   "source": [
    "#finding the average age in the clustering \n",
    "df.groupby('Spending and Income Cluster')['Age', 'Annual Income (k$)', 'Spending Score (1-100)'].mean()"
   ]
  },
  {
   "cell_type": "markdown",
   "id": "d58c0427",
   "metadata": {},
   "source": [
    "# Multivariate Clustering "
   ]
  },
  {
   "cell_type": "code",
   "execution_count": null,
   "id": "b94c1cab",
   "metadata": {},
   "outputs": [],
   "source": [
    "from sklearn.preprocessing import StandardScaler"
   ]
  },
  {
   "cell_type": "code",
   "execution_count": null,
   "id": "5fc66b4f",
   "metadata": {},
   "outputs": [],
   "source": [
    "scale = StandardScaler()"
   ]
  },
  {
   "cell_type": "code",
   "execution_count": null,
   "id": "1a8c328d",
   "metadata": {},
   "outputs": [],
   "source": [
    "#Changing categorical data into numeric data in order to use algorithms on data. Using onehot encoding \n",
    "dff= pd.get_dummies(df,drop_first=True)\n",
    "dff.head()"
   ]
  },
  {
   "cell_type": "code",
   "execution_count": null,
   "id": "1ed4a6d5",
   "metadata": {},
   "outputs": [],
   "source": [
    "df.columns"
   ]
  },
  {
   "cell_type": "code",
   "execution_count": null,
   "id": "b67c494b",
   "metadata": {},
   "outputs": [],
   "source": [
    "dff = dff[['Age', 'Annual Income (k$)', 'Spending Score (1-100)']]\n",
    "dff.head()"
   ]
  },
  {
   "cell_type": "code",
   "execution_count": null,
   "id": "4af84f47",
   "metadata": {},
   "outputs": [],
   "source": [
    "dff = scale.fit_transform(dff)\n"
   ]
  },
  {
   "cell_type": "code",
   "execution_count": null,
   "id": "5b81c8cd",
   "metadata": {},
   "outputs": [],
   "source": [
    "dff = pd.DataFrame(scale.fit_transform(dff))\n",
    "dff.head()"
   ]
  },
  {
   "cell_type": "code",
   "execution_count": null,
   "id": "ba82b803",
   "metadata": {},
   "outputs": [],
   "source": [
    "inertia_scores3=[]\n",
    "for i in range(1,11): \n",
    "    kmeans3=KMeans(n_clusters=i)\n",
    "    kmeans3.fit(dff)\n",
    "    inertia_scores3.append(kmeans3.inertia_)\n",
    "plt.plot(range(1,11), inertia_scores3)\n"
   ]
  },
  {
   "cell_type": "code",
   "execution_count": null,
   "id": "7d21e2ae",
   "metadata": {},
   "outputs": [],
   "source": [
    "#get the data to use for visualization\n",
    "df\n"
   ]
  },
  {
   "cell_type": "code",
   "execution_count": null,
   "id": "9476b77d",
   "metadata": {},
   "outputs": [],
   "source": [
    "#export the data in a csv file for visualiazation \n",
    "df.to_csv('Clustering.csv')"
   ]
  }
 ],
 "metadata": {
  "kernelspec": {
   "display_name": "Python 3 (ipykernel)",
   "language": "python",
   "name": "python3"
  },
  "language_info": {
   "codemirror_mode": {
    "name": "ipython",
    "version": 3
   },
   "file_extension": ".py",
   "mimetype": "text/x-python",
   "name": "python",
   "nbconvert_exporter": "python",
   "pygments_lexer": "ipython3",
   "version": "3.9.7"
  }
 },
 "nbformat": 4,
 "nbformat_minor": 5
}
